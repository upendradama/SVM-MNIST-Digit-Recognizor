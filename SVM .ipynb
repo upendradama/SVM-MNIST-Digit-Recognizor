{
 "cells": [
  {
   "cell_type": "markdown",
   "metadata": {},
   "source": [
    "# Digit Recognition Using SVM\n",
    "\n",
    "A classic problem in the field of pattern recognition is that of handwritten digit recognition. Suppose that you have images of handwritten digits ranging from 0-9 written by various people in boxes of a specific size - similar to the application forms in banks and universities.\n",
    " \n",
    "The goal is to develop a model that can correctly identify the digit (between 0-9) written in an image. \n",
    "\n",
    "\n",
    "### Data Understanding\n",
    "\n",
    "Let's first understand the shape, attributes etc. of the dataset."
   ]
  },
  {
   "cell_type": "code",
   "execution_count": 1,
   "metadata": {},
   "outputs": [],
   "source": [
    "# libraries\n",
    "import pandas as pd\n",
    "import numpy as np\n",
    "from sklearn.svm import SVC\n",
    "from sklearn import metrics\n",
    "from sklearn.metrics import confusion_matrix\n",
    "from sklearn.preprocessing import MinMaxScaler\n",
    "from sklearn.model_selection import KFold\n",
    "from sklearn.model_selection import cross_val_score\n",
    "from sklearn.model_selection import GridSearchCV\n",
    "import matplotlib.pyplot as plt\n",
    "import seaborn as sns\n",
    "from sklearn.preprocessing import scale\n",
    "\n",
    "# dataset\n",
    "digits_train = pd.read_csv(\"train.csv\")\n",
    "X_test = pd.read_csv(\"test.csv\")"
   ]
  },
  {
   "cell_type": "code",
   "execution_count": 2,
   "metadata": {},
   "outputs": [
    {
     "name": "stdout",
     "output_type": "stream",
     "text": [
      "Dimensions:  (42000, 785) \n",
      "\n",
      "<class 'pandas.core.frame.DataFrame'>\n",
      "RangeIndex: 42000 entries, 0 to 41999\n",
      "Columns: 785 entries, label to pixel783\n",
      "dtypes: int64(785)\n",
      "memory usage: 251.5 MB\n",
      "None\n"
     ]
    },
    {
     "data": {
      "text/html": [
       "<div>\n",
       "<style scoped>\n",
       "    .dataframe tbody tr th:only-of-type {\n",
       "        vertical-align: middle;\n",
       "    }\n",
       "\n",
       "    .dataframe tbody tr th {\n",
       "        vertical-align: top;\n",
       "    }\n",
       "\n",
       "    .dataframe thead th {\n",
       "        text-align: right;\n",
       "    }\n",
       "</style>\n",
       "<table border=\"1\" class=\"dataframe\">\n",
       "  <thead>\n",
       "    <tr style=\"text-align: right;\">\n",
       "      <th></th>\n",
       "      <th>label</th>\n",
       "      <th>pixel0</th>\n",
       "      <th>pixel1</th>\n",
       "      <th>pixel2</th>\n",
       "      <th>pixel3</th>\n",
       "      <th>pixel4</th>\n",
       "      <th>pixel5</th>\n",
       "      <th>pixel6</th>\n",
       "      <th>pixel7</th>\n",
       "      <th>pixel8</th>\n",
       "      <th>...</th>\n",
       "      <th>pixel774</th>\n",
       "      <th>pixel775</th>\n",
       "      <th>pixel776</th>\n",
       "      <th>pixel777</th>\n",
       "      <th>pixel778</th>\n",
       "      <th>pixel779</th>\n",
       "      <th>pixel780</th>\n",
       "      <th>pixel781</th>\n",
       "      <th>pixel782</th>\n",
       "      <th>pixel783</th>\n",
       "    </tr>\n",
       "  </thead>\n",
       "  <tbody>\n",
       "    <tr>\n",
       "      <td>0</td>\n",
       "      <td>1</td>\n",
       "      <td>0</td>\n",
       "      <td>0</td>\n",
       "      <td>0</td>\n",
       "      <td>0</td>\n",
       "      <td>0</td>\n",
       "      <td>0</td>\n",
       "      <td>0</td>\n",
       "      <td>0</td>\n",
       "      <td>0</td>\n",
       "      <td>...</td>\n",
       "      <td>0</td>\n",
       "      <td>0</td>\n",
       "      <td>0</td>\n",
       "      <td>0</td>\n",
       "      <td>0</td>\n",
       "      <td>0</td>\n",
       "      <td>0</td>\n",
       "      <td>0</td>\n",
       "      <td>0</td>\n",
       "      <td>0</td>\n",
       "    </tr>\n",
       "    <tr>\n",
       "      <td>1</td>\n",
       "      <td>0</td>\n",
       "      <td>0</td>\n",
       "      <td>0</td>\n",
       "      <td>0</td>\n",
       "      <td>0</td>\n",
       "      <td>0</td>\n",
       "      <td>0</td>\n",
       "      <td>0</td>\n",
       "      <td>0</td>\n",
       "      <td>0</td>\n",
       "      <td>...</td>\n",
       "      <td>0</td>\n",
       "      <td>0</td>\n",
       "      <td>0</td>\n",
       "      <td>0</td>\n",
       "      <td>0</td>\n",
       "      <td>0</td>\n",
       "      <td>0</td>\n",
       "      <td>0</td>\n",
       "      <td>0</td>\n",
       "      <td>0</td>\n",
       "    </tr>\n",
       "    <tr>\n",
       "      <td>2</td>\n",
       "      <td>1</td>\n",
       "      <td>0</td>\n",
       "      <td>0</td>\n",
       "      <td>0</td>\n",
       "      <td>0</td>\n",
       "      <td>0</td>\n",
       "      <td>0</td>\n",
       "      <td>0</td>\n",
       "      <td>0</td>\n",
       "      <td>0</td>\n",
       "      <td>...</td>\n",
       "      <td>0</td>\n",
       "      <td>0</td>\n",
       "      <td>0</td>\n",
       "      <td>0</td>\n",
       "      <td>0</td>\n",
       "      <td>0</td>\n",
       "      <td>0</td>\n",
       "      <td>0</td>\n",
       "      <td>0</td>\n",
       "      <td>0</td>\n",
       "    </tr>\n",
       "    <tr>\n",
       "      <td>3</td>\n",
       "      <td>4</td>\n",
       "      <td>0</td>\n",
       "      <td>0</td>\n",
       "      <td>0</td>\n",
       "      <td>0</td>\n",
       "      <td>0</td>\n",
       "      <td>0</td>\n",
       "      <td>0</td>\n",
       "      <td>0</td>\n",
       "      <td>0</td>\n",
       "      <td>...</td>\n",
       "      <td>0</td>\n",
       "      <td>0</td>\n",
       "      <td>0</td>\n",
       "      <td>0</td>\n",
       "      <td>0</td>\n",
       "      <td>0</td>\n",
       "      <td>0</td>\n",
       "      <td>0</td>\n",
       "      <td>0</td>\n",
       "      <td>0</td>\n",
       "    </tr>\n",
       "    <tr>\n",
       "      <td>4</td>\n",
       "      <td>0</td>\n",
       "      <td>0</td>\n",
       "      <td>0</td>\n",
       "      <td>0</td>\n",
       "      <td>0</td>\n",
       "      <td>0</td>\n",
       "      <td>0</td>\n",
       "      <td>0</td>\n",
       "      <td>0</td>\n",
       "      <td>0</td>\n",
       "      <td>...</td>\n",
       "      <td>0</td>\n",
       "      <td>0</td>\n",
       "      <td>0</td>\n",
       "      <td>0</td>\n",
       "      <td>0</td>\n",
       "      <td>0</td>\n",
       "      <td>0</td>\n",
       "      <td>0</td>\n",
       "      <td>0</td>\n",
       "      <td>0</td>\n",
       "    </tr>\n",
       "  </tbody>\n",
       "</table>\n",
       "<p>5 rows × 785 columns</p>\n",
       "</div>"
      ],
      "text/plain": [
       "   label  pixel0  pixel1  pixel2  pixel3  pixel4  pixel5  pixel6  pixel7  \\\n",
       "0      1       0       0       0       0       0       0       0       0   \n",
       "1      0       0       0       0       0       0       0       0       0   \n",
       "2      1       0       0       0       0       0       0       0       0   \n",
       "3      4       0       0       0       0       0       0       0       0   \n",
       "4      0       0       0       0       0       0       0       0       0   \n",
       "\n",
       "   pixel8  ...  pixel774  pixel775  pixel776  pixel777  pixel778  pixel779  \\\n",
       "0       0  ...         0         0         0         0         0         0   \n",
       "1       0  ...         0         0         0         0         0         0   \n",
       "2       0  ...         0         0         0         0         0         0   \n",
       "3       0  ...         0         0         0         0         0         0   \n",
       "4       0  ...         0         0         0         0         0         0   \n",
       "\n",
       "   pixel780  pixel781  pixel782  pixel783  \n",
       "0         0         0         0         0  \n",
       "1         0         0         0         0  \n",
       "2         0         0         0         0  \n",
       "3         0         0         0         0  \n",
       "4         0         0         0         0  \n",
       "\n",
       "[5 rows x 785 columns]"
      ]
     },
     "execution_count": 2,
     "metadata": {},
     "output_type": "execute_result"
    }
   ],
   "source": [
    "# about the dataset\n",
    "\n",
    "# dimensions\n",
    "print(\"Dimensions: \", digits_train.shape, \"\\n\")\n",
    "\n",
    "# data types\n",
    "print(digits_train.info())\n",
    "\n",
    "# head\n",
    "digits_train.head()"
   ]
  },
  {
   "cell_type": "code",
   "execution_count": 3,
   "metadata": {},
   "outputs": [
    {
     "name": "stdout",
     "output_type": "stream",
     "text": [
      "Index(['label', 'pixel0', 'pixel1', 'pixel2', 'pixel3', 'pixel4', 'pixel5',\n",
      "       'pixel6', 'pixel7', 'pixel8',\n",
      "       ...\n",
      "       'pixel774', 'pixel775', 'pixel776', 'pixel777', 'pixel778', 'pixel779',\n",
      "       'pixel780', 'pixel781', 'pixel782', 'pixel783'],\n",
      "      dtype='object', length=785)\n"
     ]
    }
   ],
   "source": [
    "print(digits_train.columns)"
   ]
  },
  {
   "cell_type": "code",
   "execution_count": 4,
   "metadata": {},
   "outputs": [
    {
     "name": "stdout",
     "output_type": "stream",
     "text": [
      "[0, 1, 2, 3, 4, 5, 6, 7, 8, 9]\n"
     ]
    }
   ],
   "source": [
    "order = list(np.sort(digits_train['label'].unique()))\n",
    "print(order)"
   ]
  },
  {
   "cell_type": "code",
   "execution_count": 5,
   "metadata": {},
   "outputs": [
    {
     "data": {
      "image/png": "[encoded data removed]",
      "text/plain": [
       "<Figure size 720x432 with 1 Axes>"
      ]
     },
     "metadata": {
      "needs_background": "light"
     },
     "output_type": "display_data"
    }
   ],
   "source": [
    "# basic plots: How do various attributes vary with the label\n",
    "\n",
    "plt.figure(figsize=(10, 6))\n",
    "sns.barplot(x='label', y='pixel100', \n",
    "            data=digits_train, \n",
    "            order=order)\n",
    "\n",
    "plt.show()"
   ]
  },
  {
   "cell_type": "code",
   "execution_count": 6,
   "metadata": {},
   "outputs": [],
   "source": [
    "X_train = digits_train.drop(\"label\", axis = 1)\n",
    "y_train = digits_train['label']"
   ]
  },
  {
   "cell_type": "code",
   "execution_count": 7,
   "metadata": {},
   "outputs": [
    {
     "data": {
      "text/html": [
       "<div>\n",
       "<style scoped>\n",
       "    .dataframe tbody tr th:only-of-type {\n",
       "        vertical-align: middle;\n",
       "    }\n",
       "\n",
       "    .dataframe tbody tr th {\n",
       "        vertical-align: top;\n",
       "    }\n",
       "\n",
       "    .dataframe thead th {\n",
       "        text-align: right;\n",
       "    }\n",
       "</style>\n",
       "<table border=\"1\" class=\"dataframe\">\n",
       "  <thead>\n",
       "    <tr style=\"text-align: right;\">\n",
       "      <th></th>\n",
       "      <th>pixel0</th>\n",
       "      <th>pixel1</th>\n",
       "      <th>pixel2</th>\n",
       "      <th>pixel3</th>\n",
       "      <th>pixel4</th>\n",
       "      <th>pixel5</th>\n",
       "      <th>pixel6</th>\n",
       "      <th>pixel7</th>\n",
       "      <th>pixel8</th>\n",
       "      <th>pixel9</th>\n",
       "      <th>...</th>\n",
       "      <th>pixel774</th>\n",
       "      <th>pixel775</th>\n",
       "      <th>pixel776</th>\n",
       "      <th>pixel777</th>\n",
       "      <th>pixel778</th>\n",
       "      <th>pixel779</th>\n",
       "      <th>pixel780</th>\n",
       "      <th>pixel781</th>\n",
       "      <th>pixel782</th>\n",
       "      <th>pixel783</th>\n",
       "    </tr>\n",
       "  </thead>\n",
       "  <tbody>\n",
       "    <tr>\n",
       "      <td>0</td>\n",
       "      <td>0</td>\n",
       "      <td>0</td>\n",
       "      <td>0</td>\n",
       "      <td>0</td>\n",
       "      <td>0</td>\n",
       "      <td>0</td>\n",
       "      <td>0</td>\n",
       "      <td>0</td>\n",
       "      <td>0</td>\n",
       "      <td>0</td>\n",
       "      <td>...</td>\n",
       "      <td>0</td>\n",
       "      <td>0</td>\n",
       "      <td>0</td>\n",
       "      <td>0</td>\n",
       "      <td>0</td>\n",
       "      <td>0</td>\n",
       "      <td>0</td>\n",
       "      <td>0</td>\n",
       "      <td>0</td>\n",
       "      <td>0</td>\n",
       "    </tr>\n",
       "    <tr>\n",
       "      <td>1</td>\n",
       "      <td>0</td>\n",
       "      <td>0</td>\n",
       "      <td>0</td>\n",
       "      <td>0</td>\n",
       "      <td>0</td>\n",
       "      <td>0</td>\n",
       "      <td>0</td>\n",
       "      <td>0</td>\n",
       "      <td>0</td>\n",
       "      <td>0</td>\n",
       "      <td>...</td>\n",
       "      <td>0</td>\n",
       "      <td>0</td>\n",
       "      <td>0</td>\n",
       "      <td>0</td>\n",
       "      <td>0</td>\n",
       "      <td>0</td>\n",
       "      <td>0</td>\n",
       "      <td>0</td>\n",
       "      <td>0</td>\n",
       "      <td>0</td>\n",
       "    </tr>\n",
       "    <tr>\n",
       "      <td>2</td>\n",
       "      <td>0</td>\n",
       "      <td>0</td>\n",
       "      <td>0</td>\n",
       "      <td>0</td>\n",
       "      <td>0</td>\n",
       "      <td>0</td>\n",
       "      <td>0</td>\n",
       "      <td>0</td>\n",
       "      <td>0</td>\n",
       "      <td>0</td>\n",
       "      <td>...</td>\n",
       "      <td>0</td>\n",
       "      <td>0</td>\n",
       "      <td>0</td>\n",
       "      <td>0</td>\n",
       "      <td>0</td>\n",
       "      <td>0</td>\n",
       "      <td>0</td>\n",
       "      <td>0</td>\n",
       "      <td>0</td>\n",
       "      <td>0</td>\n",
       "    </tr>\n",
       "    <tr>\n",
       "      <td>3</td>\n",
       "      <td>0</td>\n",
       "      <td>0</td>\n",
       "      <td>0</td>\n",
       "      <td>0</td>\n",
       "      <td>0</td>\n",
       "      <td>0</td>\n",
       "      <td>0</td>\n",
       "      <td>0</td>\n",
       "      <td>0</td>\n",
       "      <td>0</td>\n",
       "      <td>...</td>\n",
       "      <td>0</td>\n",
       "      <td>0</td>\n",
       "      <td>0</td>\n",
       "      <td>0</td>\n",
       "      <td>0</td>\n",
       "      <td>0</td>\n",
       "      <td>0</td>\n",
       "      <td>0</td>\n",
       "      <td>0</td>\n",
       "      <td>0</td>\n",
       "    </tr>\n",
       "    <tr>\n",
       "      <td>4</td>\n",
       "      <td>0</td>\n",
       "      <td>0</td>\n",
       "      <td>0</td>\n",
       "      <td>0</td>\n",
       "      <td>0</td>\n",
       "      <td>0</td>\n",
       "      <td>0</td>\n",
       "      <td>0</td>\n",
       "      <td>0</td>\n",
       "      <td>0</td>\n",
       "      <td>...</td>\n",
       "      <td>0</td>\n",
       "      <td>0</td>\n",
       "      <td>0</td>\n",
       "      <td>0</td>\n",
       "      <td>0</td>\n",
       "      <td>0</td>\n",
       "      <td>0</td>\n",
       "      <td>0</td>\n",
       "      <td>0</td>\n",
       "      <td>0</td>\n",
       "    </tr>\n",
       "  </tbody>\n",
       "</table>\n",
       "<p>5 rows × 784 columns</p>\n",
       "</div>"
      ],
      "text/plain": [
       "   pixel0  pixel1  pixel2  pixel3  pixel4  pixel5  pixel6  pixel7  pixel8  \\\n",
       "0       0       0       0       0       0       0       0       0       0   \n",
       "1       0       0       0       0       0       0       0       0       0   \n",
       "2       0       0       0       0       0       0       0       0       0   \n",
       "3       0       0       0       0       0       0       0       0       0   \n",
       "4       0       0       0       0       0       0       0       0       0   \n",
       "\n",
       "   pixel9  ...  pixel774  pixel775  pixel776  pixel777  pixel778  pixel779  \\\n",
       "0       0  ...         0         0         0         0         0         0   \n",
       "1       0  ...         0         0         0         0         0         0   \n",
       "2       0  ...         0         0         0         0         0         0   \n",
       "3       0  ...         0         0         0         0         0         0   \n",
       "4       0  ...         0         0         0         0         0         0   \n",
       "\n",
       "   pixel780  pixel781  pixel782  pixel783  \n",
       "0         0         0         0         0  \n",
       "1         0         0         0         0  \n",
       "2         0         0         0         0  \n",
       "3         0         0         0         0  \n",
       "4         0         0         0         0  \n",
       "\n",
       "[5 rows x 784 columns]"
      ]
     },
     "execution_count": 7,
     "metadata": {},
     "output_type": "execute_result"
    }
   ],
   "source": [
    "X_train.head()"
   ]
  },
  {
   "cell_type": "code",
   "execution_count": 8,
   "metadata": {},
   "outputs": [
    {
     "data": {
      "text/plain": [
       "0    1\n",
       "1    0\n",
       "2    1\n",
       "3    4\n",
       "4    0\n",
       "Name: label, dtype: int64"
      ]
     },
     "execution_count": 8,
     "metadata": {},
     "output_type": "execute_result"
    }
   ],
   "source": [
    "y_train.head()"
   ]
  },
  {
   "cell_type": "code",
   "execution_count": 9,
   "metadata": {},
   "outputs": [
    {
     "name": "stdout",
     "output_type": "stream",
     "text": [
      "X_train = (42000, 784), y = (42000,), X_test = (28000, 784)\n"
     ]
    }
   ],
   "source": [
    "print(f'X_train = {X_train.shape}, y = {y_train.shape}, X_test = {X_test.shape}')"
   ]
  },
  {
   "cell_type": "code",
   "execution_count": 10,
   "metadata": {},
   "outputs": [
    {
     "data": {
      "image/png": "[encoded data removed]",
      "text/plain": [
       "<Figure size 1008x864 with 30 Axes>"
      ]
     },
     "metadata": {},
     "output_type": "display_data"
    }
   ],
   "source": [
    "# Plotting some digits\n",
    "\n",
    "plt.figure(figsize=(14,12))\n",
    "for digit_num in range(0,30):\n",
    "    plt.subplot(7,10,digit_num+1)\n",
    "    grid_data = X_train.iloc[digit_num].values.reshape(28,28)  # reshape from 1d to 2d pixel array\n",
    "    plt.imshow(grid_data, interpolation = \"none\", cmap = \"afmhot\")\n",
    "    plt.xticks([])\n",
    "    plt.yticks([])\n",
    "plt.tight_layout()"
   ]
  },
  {
   "cell_type": "code",
   "execution_count": 11,
   "metadata": {},
   "outputs": [],
   "source": [
    "scaler = MinMaxScaler(feature_range=(-1, 1))\n",
    "scaler.fit(X_train)\n",
    "normalized_X_train = scaler.transform(X_train)\n",
    "normalized_X_test = scaler.transform(X_test)"
   ]
  },
  {
   "cell_type": "code",
   "execution_count": 12,
   "metadata": {},
   "outputs": [],
   "source": [
    "from sklearn.decomposition import PCA"
   ]
  },
  {
   "cell_type": "code",
   "execution_count": 13,
   "metadata": {},
   "outputs": [],
   "source": [
    "pca = PCA(random_state=42)"
   ]
  },
  {
   "cell_type": "code",
   "execution_count": 14,
   "metadata": {},
   "outputs": [
    {
     "data": {
      "text/plain": [
       "PCA(random_state=42)"
      ]
     },
     "execution_count": 14,
     "metadata": {},
     "output_type": "execute_result"
    }
   ],
   "source": [
    "pca.fit(normalized_X_train)"
   ]
  },
  {
   "cell_type": "code",
   "execution_count": 15,
   "metadata": {},
   "outputs": [
    {
     "data": {
      "text/plain": [
       "array([[-3.57976067e-19,  2.22044605e-16,  1.11022302e-16, ...,\n",
       "        -0.00000000e+00, -0.00000000e+00, -0.00000000e+00],\n",
       "       [-5.15181118e-19, -5.55111512e-17, -0.00000000e+00, ...,\n",
       "        -0.00000000e+00, -0.00000000e+00, -0.00000000e+00],\n",
       "       [ 1.57308650e-19, -0.00000000e+00,  4.16333634e-17, ...,\n",
       "        -0.00000000e+00, -0.00000000e+00, -0.00000000e+00],\n",
       "       ...,\n",
       "       [-0.00000000e+00, -3.48625276e-02, -7.25186740e-02, ...,\n",
       "        -0.00000000e+00, -0.00000000e+00, -0.00000000e+00],\n",
       "       [-0.00000000e+00, -1.77127304e-01,  5.91756316e-02, ...,\n",
       "        -0.00000000e+00, -0.00000000e+00, -0.00000000e+00],\n",
       "       [-0.00000000e+00, -6.03333841e-03, -1.17129353e-02, ...,\n",
       "        -0.00000000e+00, -0.00000000e+00, -0.00000000e+00]])"
      ]
     },
     "execution_count": 15,
     "metadata": {},
     "output_type": "execute_result"
    }
   ],
   "source": [
    "pca.components_"
   ]
  },
  {
   "cell_type": "code",
   "execution_count": 16,
   "metadata": {},
   "outputs": [
    {
     "data": {
      "text/plain": [
       "array([9.74849587e-02, 7.15994194e-02, 6.14562512e-02, 5.37905900e-02,\n",
       "       4.89404049e-02, 4.30301914e-02, 3.27690238e-02, 2.89197264e-02,\n",
       "       2.76677718e-02, 2.34876474e-02, 2.09923040e-02, 2.05890808e-02,\n",
       "       1.70247659e-02, 1.69271060e-02, 1.58105493e-02, 1.48317296e-02,\n",
       "       1.31962823e-02, 1.28266983e-02, 1.18792248e-02, 1.15270281e-02,\n",
       "       1.07214287e-02, 1.01515377e-02, 9.64858920e-03, 9.12804956e-03,\n",
       "       8.87600858e-03, 8.38728506e-03, 8.11819333e-03, 7.77370709e-03,\n",
       "       7.40601855e-03, 6.86630755e-03, 6.57952735e-03, 6.38770013e-03,\n",
       "       5.99340176e-03, 5.88887049e-03, 5.64309817e-03, 5.40942900e-03,\n",
       "       5.09199005e-03, 4.87483066e-03, 4.75548291e-03, 4.66523779e-03,\n",
       "       4.52932253e-03, 4.44969301e-03, 4.18236591e-03, 3.97487987e-03,\n",
       "       3.84524817e-03, 3.74902645e-03, 3.60997053e-03, 3.48506575e-03,\n",
       "       3.36472931e-03, 3.20723970e-03, 3.15453096e-03, 3.09131806e-03,\n",
       "       2.93696071e-03, 2.86528720e-03, 2.80747137e-03, 2.69606405e-03,\n",
       "       2.65819541e-03, 2.56287258e-03, 2.53809889e-03, 2.46167323e-03,\n",
       "       2.39705499e-03, 2.38728988e-03, 2.27581383e-03, 2.21508645e-03,\n",
       "       2.13924228e-03, 2.06124270e-03, 2.02842134e-03, 1.95968091e-03,\n",
       "       1.93630075e-03, 1.88476913e-03, 1.86742901e-03, 1.81662130e-03,\n",
       "       1.76883649e-03, 1.72584861e-03, 1.66113646e-03, 1.63302434e-03,\n",
       "       1.60594394e-03, 1.54465605e-03, 1.46843259e-03, 1.42369717e-03,\n",
       "       1.41092416e-03, 1.40222406e-03, 1.38828888e-03, 1.35411377e-03,\n",
       "       1.32301386e-03, 1.30774262e-03, 1.29668172e-03, 1.24235094e-03,\n",
       "       1.22243767e-03, 1.19619264e-03, 1.15835190e-03, 1.13854098e-03,\n",
       "       1.12258604e-03, 1.10470384e-03, 1.08128449e-03, 1.07408022e-03,\n",
       "       1.03861285e-03, 1.03317495e-03, 1.01490483e-03, 9.99921435e-04,\n",
       "       9.74777727e-04, 9.45017754e-04, 9.38601574e-04, 9.12182566e-04,\n",
       "       9.07274785e-04, 8.88835607e-04, 8.63661699e-04, 8.44200096e-04,\n",
       "       8.35506040e-04, 8.16618142e-04, 7.87648663e-04, 7.81527842e-04,\n",
       "       7.77431675e-04, 7.71901525e-04, 7.57811451e-04, 7.50184728e-04,\n",
       "       7.34445472e-04, 7.25741935e-04, 7.15292165e-04, 7.00295608e-04,\n",
       "       6.93021262e-04, 6.85711651e-04, 6.79904596e-04, 6.65691754e-04,\n",
       "       6.56111716e-04, 6.44775072e-04, 6.35365242e-04, 6.26101336e-04,\n",
       "       6.18488971e-04, 6.05717388e-04, 6.03829878e-04, 5.91428120e-04,\n",
       "       5.85874664e-04, 5.84610647e-04, 5.75457922e-04, 5.69693214e-04,\n",
       "       5.64474393e-04, 5.53151987e-04, 5.34322386e-04, 5.25756169e-04,\n",
       "       5.21944694e-04, 5.11173593e-04, 5.05124048e-04, 4.99905015e-04,\n",
       "       4.95304533e-04, 4.92330847e-04, 4.84376501e-04, 4.76668199e-04,\n",
       "       4.74648225e-04, 4.67873334e-04, 4.65279051e-04, 4.61343721e-04,\n",
       "       4.56317888e-04, 4.51737409e-04, 4.49470068e-04, 4.41339440e-04,\n",
       "       4.38773903e-04, 4.24373742e-04, 4.20298441e-04, 4.16340781e-04,\n",
       "       4.13813731e-04, 4.07082631e-04, 3.98534735e-04, 3.94344530e-04,\n",
       "       3.94051480e-04, 3.91386883e-04, 3.81650348e-04, 3.79217149e-04,\n",
       "       3.75522826e-04, 3.73819004e-04, 3.66323841e-04, 3.63060132e-04,\n",
       "       3.59292757e-04, 3.57018584e-04, 3.53015742e-04, 3.52741594e-04,\n",
       "       3.45290322e-04, 3.43266782e-04, 3.41878181e-04, 3.39154021e-04,\n",
       "       3.34848477e-04, 3.29831063e-04, 3.25493920e-04, 3.24692133e-04,\n",
       "       3.21001983e-04, 3.20423767e-04, 3.17183415e-04, 3.16808631e-04,\n",
       "       3.10906613e-04, 3.10162507e-04, 3.06823281e-04, 3.03811995e-04,\n",
       "       2.99697438e-04, 2.98316961e-04, 2.94082802e-04, 2.93382277e-04,\n",
       "       2.92966356e-04, 2.89265895e-04, 2.84978125e-04, 2.83688000e-04,\n",
       "       2.81072674e-04, 2.76248982e-04, 2.74094314e-04, 2.71592743e-04,\n",
       "       2.67511955e-04, 2.66785114e-04, 2.62882783e-04, 2.62036966e-04,\n",
       "       2.61479168e-04, 2.58245200e-04, 2.56596154e-04, 2.55378349e-04,\n",
       "       2.54102671e-04, 2.52805368e-04, 2.50903170e-04, 2.48278439e-04,\n",
       "       2.47609375e-04, 2.44454191e-04, 2.43278410e-04, 2.40984996e-04,\n",
       "       2.40267007e-04, 2.39356946e-04, 2.38586962e-04, 2.36458234e-04,\n",
       "       2.32049389e-04, 2.30979533e-04, 2.28974734e-04, 2.27279204e-04,\n",
       "       2.25960216e-04, 2.24775254e-04, 2.20971770e-04, 2.19446553e-04,\n",
       "       2.17377797e-04, 2.15921290e-04, 2.14944903e-04, 2.13608947e-04,\n",
       "       2.11482581e-04, 2.10857309e-04, 2.08107237e-04, 2.05164572e-04,\n",
       "       2.03738858e-04, 2.03265612e-04, 2.01778318e-04, 1.99659627e-04,\n",
       "       1.97978487e-04, 1.96803140e-04, 1.94810520e-04, 1.93712632e-04,\n",
       "       1.92660901e-04, 1.92117936e-04, 1.90245290e-04, 1.88385584e-04,\n",
       "       1.86825701e-04, 1.84985914e-04, 1.84694248e-04, 1.84096432e-04,\n",
       "       1.82783305e-04, 1.82318657e-04, 1.81388156e-04, 1.79608170e-04,\n",
       "       1.76706427e-04, 1.75612684e-04, 1.74851168e-04, 1.73479442e-04,\n",
       "       1.72521367e-04, 1.71471536e-04, 1.71128430e-04, 1.68771559e-04,\n",
       "       1.68128119e-04, 1.67689440e-04, 1.66265681e-04, 1.64291754e-04,\n",
       "       1.63898563e-04, 1.63025467e-04, 1.62243304e-04, 1.60430485e-04,\n",
       "       1.60272531e-04, 1.58843920e-04, 1.58389855e-04, 1.57247012e-04,\n",
       "       1.55417750e-04, 1.54447354e-04, 1.53622371e-04, 1.51829247e-04,\n",
       "       1.50879326e-04, 1.50399786e-04, 1.49035361e-04, 1.48286695e-04,\n",
       "       1.46695632e-04, 1.45916592e-04, 1.43468204e-04, 1.43410510e-04,\n",
       "       1.42944470e-04, 1.41861615e-04, 1.41432134e-04, 1.40319601e-04,\n",
       "       1.38338368e-04, 1.37443746e-04, 1.36376831e-04, 1.35449601e-04,\n",
       "       1.35157230e-04, 1.34401213e-04, 1.33397819e-04, 1.32285193e-04,\n",
       "       1.30750347e-04, 1.29889904e-04, 1.28532282e-04, 1.27849961e-04,\n",
       "       1.26971103e-04, 1.26606176e-04, 1.25882765e-04, 1.25150384e-04,\n",
       "       1.24025797e-04, 1.22538216e-04, 1.22325409e-04, 1.21183140e-04,\n",
       "       1.20863764e-04, 1.20081157e-04, 1.19015700e-04, 1.18238055e-04,\n",
       "       1.17234291e-04, 1.15740758e-04, 1.15359565e-04, 1.14560147e-04,\n",
       "       1.13625232e-04, 1.13188041e-04, 1.11754415e-04, 1.10296432e-04,\n",
       "       1.09959654e-04, 1.09347996e-04, 1.09176382e-04, 1.08475666e-04,\n",
       "       1.07796616e-04, 1.06915684e-04, 1.06722052e-04, 1.06078313e-04,\n",
       "       1.04465224e-04, 1.04394505e-04, 1.03068250e-04, 1.02212522e-04,\n",
       "       1.01370743e-04, 1.00594746e-04, 9.97663291e-05, 9.94424647e-05,\n",
       "       9.85817125e-05, 9.70140393e-05, 9.69813812e-05, 9.62943007e-05,\n",
       "       9.46106197e-05, 9.41281283e-05, 9.30444968e-05, 9.25735755e-05,\n",
       "       9.15836523e-05, 9.10795051e-05, 9.05016572e-05, 9.00321325e-05,\n",
       "       8.96170841e-05, 8.89817079e-05, 8.83190042e-05, 8.75292345e-05,\n",
       "       8.71257645e-05, 8.58988838e-05, 8.50485875e-05, 8.50427011e-05,\n",
       "       8.46365945e-05, 8.38338149e-05, 8.27371079e-05, 8.25067666e-05,\n",
       "       8.21626700e-05, 8.08614834e-05, 7.97120093e-05, 7.90043041e-05,\n",
       "       7.83870448e-05, 7.80445060e-05, 7.74622212e-05, 7.66048995e-05,\n",
       "       7.57541569e-05, 7.49356885e-05, 7.42410946e-05, 7.31768714e-05,\n",
       "       7.30195515e-05, 7.25588127e-05, 7.22478902e-05, 7.17606040e-05,\n",
       "       7.12842210e-05, 6.95553985e-05, 6.92049994e-05, 6.85595220e-05,\n",
       "       6.78732486e-05, 6.70297943e-05, 6.65115651e-05, 6.58547925e-05,\n",
       "       6.50114621e-05, 6.38901832e-05, 6.29205026e-05, 6.26708462e-05,\n",
       "       6.13295213e-05, 6.07714902e-05, 6.02884382e-05, 5.94914278e-05,\n",
       "       5.88110275e-05, 5.82722279e-05, 5.77561305e-05, 5.75151289e-05,\n",
       "       5.62843299e-05, 5.60996390e-05, 5.50226327e-05, 5.44724417e-05,\n",
       "       5.39658934e-05, 5.38319370e-05, 5.31381333e-05, 5.27647217e-05,\n",
       "       5.22008668e-05, 5.13781476e-05, 5.12659014e-05, 5.06533411e-05,\n",
       "       5.00904596e-05, 4.93575931e-05, 4.92679923e-05, 4.82678693e-05,\n",
       "       4.72243157e-05, 4.68595235e-05, 4.61349395e-05, 4.59513791e-05,\n",
       "       4.55873060e-05, 4.43758944e-05, 4.36224291e-05, 4.29173633e-05,\n",
       "       4.26094873e-05, 4.24409842e-05, 4.18279951e-05, 4.11240595e-05,\n",
       "       4.05062500e-05, 4.04104903e-05, 4.01047082e-05, 3.83905856e-05,\n",
       "       3.79271505e-05, 3.76901308e-05, 3.75053921e-05, 3.72418067e-05,\n",
       "       3.65051630e-05, 3.60942972e-05, 3.53461711e-05, 3.51464370e-05,\n",
       "       3.47730937e-05, 3.44431154e-05, 3.40401388e-05, 3.37288382e-05,\n",
       "       3.32200924e-05, 3.31383135e-05, 3.21489216e-05, 3.15624936e-05,\n",
       "       3.13174195e-05, 3.08353906e-05, 3.01841666e-05, 2.98307160e-05,\n",
       "       2.94631582e-05, 2.91157962e-05, 2.88950149e-05, 2.84592050e-05,\n",
       "       2.82776885e-05, 2.79048880e-05, 2.69165865e-05, 2.67168010e-05,\n",
       "       2.56625697e-05, 2.55818217e-05, 2.54233459e-05, 2.48606193e-05,\n",
       "       2.47502381e-05, 2.43964956e-05, 2.42522076e-05, 2.40507305e-05,\n",
       "       2.36341187e-05, 2.30903214e-05, 2.27289319e-05, 2.23856388e-05,\n",
       "       2.18060027e-05, 2.14040519e-05, 2.12224223e-05, 2.11436672e-05,\n",
       "       2.07925379e-05, 2.06715151e-05, 2.03215414e-05, 1.99819792e-05,\n",
       "       1.97927476e-05, 1.94896731e-05, 1.89373834e-05, 1.88503042e-05,\n",
       "       1.85726365e-05, 1.82074250e-05, 1.79060467e-05, 1.77336953e-05,\n",
       "       1.74455340e-05, 1.72845184e-05, 1.61857331e-05, 1.58968769e-05,\n",
       "       1.57395285e-05, 1.56825680e-05, 1.53140819e-05, 1.52049072e-05,\n",
       "       1.50550547e-05, 1.47683605e-05, 1.45936728e-05, 1.43310073e-05,\n",
       "       1.42278286e-05, 1.39749228e-05, 1.38854435e-05, 1.37364575e-05,\n",
       "       1.34865518e-05, 1.33953857e-05, 1.31783733e-05, 1.25473579e-05,\n",
       "       1.24304720e-05, 1.23813882e-05, 1.22706319e-05, 1.18947775e-05,\n",
       "       1.17390906e-05, 1.16627750e-05, 1.16542592e-05, 1.15033412e-05,\n",
       "       1.10843890e-05, 1.09778527e-05, 1.06772804e-05, 1.05171329e-05,\n",
       "       1.04605265e-05, 1.03420333e-05, 9.98410654e-06, 9.53932531e-06,\n",
       "       9.44349815e-06, 9.28574398e-06, 9.11867077e-06, 9.00127105e-06,\n",
       "       8.95479139e-06, 8.62068268e-06, 8.57378261e-06, 8.19763114e-06,\n",
       "       8.02545077e-06, 7.97213938e-06, 7.78306689e-06, 7.70443676e-06,\n",
       "       7.56879688e-06, 7.44719733e-06, 7.33335165e-06, 7.13732070e-06,\n",
       "       6.97195093e-06, 6.77319918e-06, 6.70208335e-06, 6.52251060e-06,\n",
       "       6.49101704e-06, 6.43499055e-06, 6.33393035e-06, 5.90265663e-06,\n",
       "       5.73685009e-06, 5.61707490e-06, 5.54467821e-06, 5.41592103e-06,\n",
       "       5.29822510e-06, 5.24186532e-06, 5.14322422e-06, 5.09550790e-06,\n",
       "       5.00004537e-06, 4.95117938e-06, 4.79309359e-06, 4.56454285e-06,\n",
       "       4.44631036e-06, 4.38242298e-06, 4.37374521e-06, 4.31448799e-06,\n",
       "       4.09961850e-06, 4.04811012e-06, 3.94536723e-06, 3.89456142e-06,\n",
       "       3.88432759e-06, 3.60606268e-06, 3.53955801e-06, 3.42597278e-06,\n",
       "       3.37302469e-06, 3.23229151e-06, 3.19134782e-06, 3.15842800e-06,\n",
       "       3.07872271e-06, 3.04797309e-06, 2.83704636e-06, 2.75964124e-06,\n",
       "       2.75334034e-06, 2.67288177e-06, 2.65265065e-06, 2.61820382e-06,\n",
       "       2.58346348e-06, 2.56095354e-06, 2.47888210e-06, 2.42005071e-06,\n",
       "       2.35286616e-06, 2.34845440e-06, 2.31658310e-06, 2.26322923e-06,\n",
       "       2.22927432e-06, 2.22072242e-06, 2.17534770e-06, 2.16686917e-06,\n",
       "       2.02543663e-06, 1.95278194e-06, 1.86431594e-06, 1.85347915e-06,\n",
       "       1.83780549e-06, 1.72344797e-06, 1.71031532e-06, 1.70372165e-06,\n",
       "       1.67665971e-06, 1.63718871e-06, 1.59875867e-06, 1.59021002e-06,\n",
       "       1.58275645e-06, 1.53080919e-06, 1.47963719e-06, 1.45437257e-06,\n",
       "       1.44315445e-06, 1.40853568e-06, 1.37248171e-06, 1.34587328e-06,\n",
       "       1.32147647e-06, 1.27591428e-06, 1.26373335e-06, 1.25737901e-06,\n",
       "       1.19679381e-06, 1.14086791e-06, 1.13272042e-06, 1.13083136e-06,\n",
       "       1.11226040e-06, 1.10770157e-06, 1.07955407e-06, 1.07262191e-06,\n",
       "       1.03197729e-06, 1.00213398e-06, 9.89476877e-07, 9.60714304e-07,\n",
       "       9.53243938e-07, 9.41510827e-07, 8.96942550e-07, 8.94094871e-07,\n",
       "       8.87366446e-07, 8.31215322e-07, 8.24678096e-07, 8.17257638e-07,\n",
       "       8.00610221e-07, 7.75103503e-07, 7.71392714e-07, 7.51211025e-07,\n",
       "       7.40788831e-07, 7.18213246e-07, 7.09881187e-07, 7.06053646e-07,\n",
       "       6.88403995e-07, 6.83865992e-07, 6.44559800e-07, 6.14384243e-07,\n",
       "       6.12250527e-07, 5.88605847e-07, 5.68095981e-07, 5.66451945e-07,\n",
       "       5.64453611e-07, 5.21659313e-07, 5.20547947e-07, 4.73345438e-07,\n",
       "       4.55707944e-07, 4.49303942e-07, 4.47683511e-07, 4.46776979e-07,\n",
       "       4.46322630e-07, 4.40862966e-07, 4.38712356e-07, 4.33752596e-07,\n",
       "       4.31910219e-07, 4.30985435e-07, 4.25457594e-07, 3.70682148e-07,\n",
       "       3.69583850e-07, 3.58635542e-07, 3.39755810e-07, 3.05720169e-07,\n",
       "       2.40972985e-07, 2.19584526e-07, 2.13108319e-07, 2.04692502e-07,\n",
       "       2.04569310e-07, 2.03840760e-07, 1.96175940e-07, 1.72132315e-07,\n",
       "       1.34865298e-07, 1.32064143e-07, 1.03952452e-07, 9.52048352e-08,\n",
       "       7.32155863e-08, 7.07847268e-08, 5.90447384e-08, 4.52252051e-08,\n",
       "       3.81613550e-08, 2.69977932e-08, 2.46175160e-08, 5.49799170e-09,\n",
       "       4.41859245e-09, 2.23931549e-09, 8.51205244e-10, 3.83053927e-10,\n",
       "       1.92330529e-32, 4.04533145e-33, 3.59961519e-33, 2.32500387e-33,\n",
       "       1.89861892e-33, 1.86923515e-33, 1.31601133e-33, 1.25529007e-33,\n",
       "       1.13826700e-33, 5.86598083e-34, 4.42143016e-34, 4.01290966e-34,\n",
       "       4.01290966e-34, 4.01290966e-34, 4.01290966e-34, 4.01290966e-34,\n",
       "       4.01290966e-34, 4.01290966e-34, 4.01290966e-34, 4.01290966e-34,\n",
       "       4.01290966e-34, 4.01290966e-34, 4.01290966e-34, 4.01290966e-34,\n",
       "       4.01290966e-34, 4.01290966e-34, 4.01290966e-34, 4.01290966e-34,\n",
       "       4.01290966e-34, 4.01290966e-34, 4.01290966e-34, 4.01290966e-34,\n",
       "       4.01290966e-34, 4.01290966e-34, 4.01290966e-34, 4.01290966e-34,\n",
       "       4.01290966e-34, 4.01290966e-34, 4.01290966e-34, 4.01290966e-34,\n",
       "       4.01290966e-34, 4.01290966e-34, 4.01290966e-34, 4.01290966e-34,\n",
       "       4.01290966e-34, 4.01290966e-34, 4.01290966e-34, 4.01290966e-34,\n",
       "       4.01290966e-34, 4.01290966e-34, 4.01290966e-34, 4.01290966e-34,\n",
       "       4.01290966e-34, 4.01290966e-34, 4.01290966e-34, 4.01290966e-34,\n",
       "       4.01290966e-34, 4.01290966e-34, 4.01290966e-34, 4.01290966e-34,\n",
       "       4.01290966e-34, 4.01290966e-34, 4.01290966e-34, 4.01290966e-34,\n",
       "       4.01290966e-34, 4.01290966e-34, 4.01290966e-34, 4.01290966e-34,\n",
       "       4.01290966e-34, 4.01290966e-34, 4.01290966e-34, 4.01290966e-34,\n",
       "       4.01290966e-34, 4.01290966e-34, 4.01290966e-34, 3.98563598e-34,\n",
       "       2.42845626e-34, 1.22365542e-34, 1.10943439e-34, 1.67704921e-35])"
      ]
     },
     "execution_count": 16,
     "metadata": {},
     "output_type": "execute_result"
    }
   ],
   "source": [
    "pca.explained_variance_ratio_"
   ]
  },
  {
   "cell_type": "code",
   "execution_count": 17,
   "metadata": {},
   "outputs": [],
   "source": [
    "var_cumu = np.cumsum(pca.explained_variance_ratio_)"
   ]
  },
  {
   "cell_type": "code",
   "execution_count": 18,
   "metadata": {},
   "outputs": [
    {
     "data": {
      "image/png": "[encoded data removed]",
      "text/plain": [
       "<Figure size 864x576 with 1 Axes>"
      ]
     },
     "metadata": {
      "needs_background": "light"
     },
     "output_type": "display_data"
    }
   ],
   "source": [
    "fig = plt.figure(figsize=[12,8])\n",
    "plt.vlines(x=160, ymax=1, ymin=0, colors=\"r\", linestyles=\"--\")\n",
    "plt.hlines(y=0.95, xmax=800, xmin=0, colors=\"g\", linestyles=\"--\")\n",
    "plt.plot(var_cumu)\n",
    "plt.ylabel(\"Cumulative variance explained\")\n",
    "plt.show()"
   ]
  },
  {
   "cell_type": "code",
   "execution_count": 19,
   "metadata": {},
   "outputs": [],
   "source": [
    "from sklearn.decomposition import IncrementalPCA"
   ]
  },
  {
   "cell_type": "code",
   "execution_count": 20,
   "metadata": {},
   "outputs": [],
   "source": [
    "pca_final = IncrementalPCA(n_components=160)"
   ]
  },
  {
   "cell_type": "code",
   "execution_count": 21,
   "metadata": {},
   "outputs": [],
   "source": [
    "train_pca = pca_final.fit_transform(normalized_X_train)"
   ]
  },
  {
   "cell_type": "code",
   "execution_count": 22,
   "metadata": {},
   "outputs": [
    {
     "data": {
      "text/plain": [
       "(42000, 160)"
      ]
     },
     "execution_count": 22,
     "metadata": {},
     "output_type": "execute_result"
    }
   ],
   "source": [
    "train_pca.shape"
   ]
  },
  {
   "cell_type": "code",
   "execution_count": 23,
   "metadata": {},
   "outputs": [
    {
     "data": {
      "text/plain": [
       "(28000, 160)"
      ]
     },
     "execution_count": 23,
     "metadata": {},
     "output_type": "execute_result"
    }
   ],
   "source": [
    "test_pca = pca_final.transform(normalized_X_test)\n",
    "test_pca.shape"
   ]
  },
  {
   "cell_type": "code",
   "execution_count": 24,
   "metadata": {},
   "outputs": [
    {
     "name": "stdout",
     "output_type": "stream",
     "text": [
      "[2.05939621e+01 1.51255717e+01 1.29827998e+01 1.13634081e+01\n",
      " 1.03387933e+01 9.09024470e+00 6.92254521e+00 6.10937067e+00\n",
      " 5.84489188e+00 4.96182926e+00 4.43468119e+00 4.34949919e+00\n",
      " 3.59652800e+00 3.57589708e+00 3.34002144e+00 3.13324312e+00\n",
      " 2.78775045e+00 2.70967483e+00 2.50951847e+00 2.43511597e+00\n",
      " 2.26493090e+00 2.14453989e+00 2.03829065e+00 1.92832524e+00\n",
      " 1.87508090e+00 1.77183673e+00 1.71499037e+00 1.64221672e+00\n",
      " 1.56454152e+00 1.45052610e+00 1.38994301e+00 1.34941899e+00\n",
      " 1.26612239e+00 1.24403987e+00 1.19211980e+00 1.14275656e+00\n",
      " 1.07569672e+00 1.02982121e+00 1.00460867e+00 9.85544144e-01\n",
      " 9.56831676e-01 9.40009725e-01 8.83536148e-01 8.39704159e-01\n",
      " 8.12319110e-01 7.91992011e-01 7.62616071e-01 7.36229598e-01\n",
      " 7.10808198e-01 6.77538091e-01 6.66403226e-01 6.53049330e-01\n",
      " 6.20440920e-01 6.05299696e-01 5.93085946e-01 5.69550846e-01\n",
      " 5.61550994e-01 5.41413788e-01 5.36180277e-01 5.20035151e-01\n",
      " 5.06384372e-01 5.04321466e-01 4.80771848e-01 4.67943024e-01\n",
      " 4.51920738e-01 4.35443114e-01 4.28509512e-01 4.13987910e-01\n",
      " 4.09048789e-01 3.98162594e-01 3.94499445e-01 3.83766179e-01\n",
      " 3.73671509e-01 3.64590202e-01 3.50919586e-01 3.44980822e-01\n",
      " 3.39260016e-01 3.26312782e-01 3.10210370e-01 3.00759891e-01\n",
      " 2.98061557e-01 2.96223638e-01 2.93279794e-01 2.86060208e-01\n",
      " 2.79490268e-01 2.76264176e-01 2.73927532e-01 2.62450007e-01\n",
      " 2.58243276e-01 2.52698941e-01 2.44704982e-01 2.40519871e-01\n",
      " 2.37149348e-01 2.33371684e-01 2.28424284e-01 2.26902361e-01\n",
      " 2.19409782e-01 2.18261012e-01 2.14401400e-01 2.11236117e-01\n",
      " 2.05924440e-01 1.99637565e-01 1.98282130e-01 1.92701043e-01\n",
      " 1.91664260e-01 1.87768934e-01 1.82450878e-01 1.78339561e-01\n",
      " 1.76502918e-01 1.72512799e-01 1.66392917e-01 1.65099877e-01\n",
      " 1.64234551e-01 1.63066292e-01 1.60089726e-01 1.58478560e-01\n",
      " 1.55153599e-01 1.53314953e-01 1.51107411e-01 1.47939348e-01\n",
      " 1.46402622e-01 1.44858447e-01 1.43631691e-01 1.40629189e-01\n",
      " 1.38605380e-01 1.36210484e-01 1.34222632e-01 1.32265606e-01\n",
      " 1.30657474e-01 1.27959442e-01 1.27560700e-01 1.24940795e-01\n",
      " 1.23767613e-01 1.23500586e-01 1.21567048e-01 1.20349237e-01\n",
      " 1.19246747e-01 1.16854858e-01 1.12877054e-01 1.11067417e-01\n",
      " 1.10262233e-01 1.07986809e-01 1.06708826e-01 1.05606291e-01\n",
      " 1.04634427e-01 1.04006228e-01 1.02325850e-01 1.00697451e-01\n",
      " 1.00270726e-01 9.88395115e-02 9.82914622e-02 9.74601130e-02\n",
      " 9.63983922e-02 9.54307535e-02 9.49517716e-02 9.32341544e-02\n",
      " 9.26921777e-02 8.96501047e-02 8.87891862e-02 8.79531198e-02\n",
      " 8.74192736e-02 8.59973105e-02 8.41915444e-02 8.33063520e-02\n",
      " 8.32444445e-02 8.26815411e-02 8.06246716e-02 8.01106519e-02\n",
      " 7.93302161e-02 7.89702791e-02 7.73869056e-02 7.66974381e-02\n",
      " 7.59015700e-02 7.54211448e-02 7.45755335e-02 7.45176190e-02\n",
      " 7.29435174e-02 7.25160393e-02 7.22226935e-02 7.16472074e-02\n",
      " 7.07376496e-02 6.96777071e-02 6.87614740e-02 6.85920943e-02\n",
      " 6.78125400e-02 6.76903904e-02 6.70058572e-02 6.69266831e-02\n",
      " 6.56798658e-02 6.55226712e-02 6.48172508e-02 6.41811085e-02\n",
      " 6.33118970e-02 6.30202676e-02 6.21257901e-02 6.19778022e-02\n",
      " 6.18899377e-02 6.11082054e-02 6.02024023e-02 5.99298598e-02\n",
      " 5.93773652e-02 5.83583472e-02 5.79031677e-02 5.73747041e-02\n",
      " 5.65126265e-02 5.63590794e-02 5.55347012e-02 5.53560202e-02\n",
      " 5.52381838e-02 5.45549994e-02 5.42066339e-02 5.39493692e-02\n",
      " 5.36798787e-02 5.34058201e-02 5.30039756e-02 5.24494940e-02\n",
      " 5.23081525e-02 5.16416111e-02 5.13932242e-02 5.09087343e-02\n",
      " 5.07570572e-02 5.05648044e-02 5.04021431e-02 4.99524436e-02\n",
      " 4.90210632e-02 4.87950531e-02 4.83715340e-02 4.80133485e-02\n",
      " 4.77347087e-02 4.74843825e-02 4.66808860e-02 4.63586798e-02\n",
      " 4.59216496e-02 4.56139586e-02 4.54076942e-02 4.51254696e-02\n",
      " 4.46762690e-02 4.45441787e-02 4.39632186e-02 4.33415727e-02\n",
      " 4.30403867e-02 4.29404122e-02 4.26262173e-02 4.21786380e-02\n",
      " 4.18234926e-02 4.15751975e-02 4.11542509e-02 4.09223192e-02\n",
      " 4.07001381e-02 4.05854353e-02 4.01898338e-02 3.97969658e-02\n",
      " 3.94674364e-02 3.90787764e-02 3.90171611e-02 3.88908708e-02\n",
      " 3.86134693e-02 3.85153110e-02 3.83187401e-02 3.79427133e-02\n",
      " 3.73297123e-02 3.70986560e-02 3.69377838e-02 3.66480029e-02\n",
      " 3.64456069e-02 3.62238273e-02 3.61513452e-02 3.56534497e-02\n",
      " 3.55175214e-02 3.54248492e-02 3.51240764e-02 3.47070789e-02\n",
      " 3.46240163e-02 3.44395723e-02 3.42743383e-02 3.38913754e-02\n",
      " 3.38580071e-02 3.35562091e-02 3.34602867e-02 3.32188580e-02\n",
      " 3.28324214e-02 3.26274226e-02 3.24531428e-02 3.20743404e-02\n",
      " 3.18736671e-02 3.17723629e-02 3.14841245e-02 3.13259667e-02\n",
      " 3.09898503e-02 3.08252761e-02 3.03080474e-02 3.02958593e-02\n",
      " 3.01974072e-02 2.99686511e-02 2.98779221e-02 2.96428964e-02\n",
      " 2.92243557e-02 2.90353642e-02 2.88099757e-02 2.86140958e-02\n",
      " 2.85523317e-02 2.83926210e-02 2.81806512e-02 2.79456060e-02\n",
      " 2.76213657e-02 2.74395948e-02 2.71527933e-02 2.70086513e-02\n",
      " 2.68229901e-02 2.67458982e-02 2.65930757e-02 2.64383583e-02\n",
      " 2.62007862e-02 2.58865306e-02 2.58415745e-02 2.56002673e-02\n",
      " 2.55327980e-02 2.53674703e-02 2.51423895e-02 2.49781101e-02\n",
      " 2.47660620e-02 2.44505493e-02 2.43700212e-02 2.42011420e-02\n",
      " 2.40036387e-02 2.39112808e-02 2.36084235e-02 2.33004205e-02\n",
      " 2.32292752e-02 2.31000608e-02 2.30638071e-02 2.29157788e-02\n",
      " 2.27723277e-02 2.25862283e-02 2.25453232e-02 2.24093316e-02\n",
      " 2.20685621e-02 2.20536224e-02 2.17734476e-02 2.15926728e-02\n",
      " 2.14148445e-02 2.12509132e-02 2.10759078e-02 2.10074905e-02\n",
      " 2.08256543e-02 2.04944791e-02 2.04875800e-02 2.03424323e-02\n",
      " 1.99867502e-02 1.98848225e-02 1.96559024e-02 1.95564190e-02\n",
      " 1.93472951e-02 1.92407926e-02 1.91187207e-02 1.90195323e-02\n",
      " 1.89318522e-02 1.87976273e-02 1.86576293e-02 1.84907883e-02\n",
      " 1.84055542e-02 1.81463723e-02 1.79667449e-02 1.79655014e-02\n",
      " 1.78797103e-02 1.77101209e-02 1.74784386e-02 1.74297783e-02\n",
      " 1.73570870e-02 1.70822078e-02 1.68393783e-02 1.66898736e-02\n",
      " 1.65594759e-02 1.64871137e-02 1.63641044e-02 1.61829929e-02\n",
      " 1.60032712e-02 1.58303676e-02 1.56836327e-02 1.54588127e-02\n",
      " 1.54255784e-02 1.53282461e-02 1.52625629e-02 1.51596223e-02\n",
      " 1.50589851e-02 1.46937667e-02 1.46197439e-02 1.44833851e-02\n",
      " 1.43384080e-02 1.41602260e-02 1.40507486e-02 1.39120036e-02\n",
      " 1.37338478e-02 1.34969746e-02 1.32921269e-02 1.32393863e-02\n",
      " 1.29560278e-02 1.28381422e-02 1.27360962e-02 1.25677256e-02\n",
      " 1.24239892e-02 1.23101663e-02 1.22011393e-02 1.21502271e-02\n",
      " 1.18902174e-02 1.18512010e-02 1.16236805e-02 1.15074511e-02\n",
      " 1.14004414e-02 1.13721428e-02 1.12255749e-02 1.11466906e-02\n",
      " 1.10275748e-02 1.08537731e-02 1.08300608e-02 1.07006558e-02\n",
      " 1.05817455e-02 1.04269255e-02 1.04079971e-02 1.01967184e-02\n",
      " 9.97626485e-03 9.89920151e-03 9.74613117e-03 9.70735353e-03\n",
      " 9.63044210e-03 9.37452811e-03 9.21535654e-03 9.06640947e-03\n",
      " 9.00136982e-03 8.96577308e-03 8.83627748e-03 8.68756917e-03\n",
      " 8.55705524e-03 8.53682574e-03 8.47222845e-03 8.11011540e-03\n",
      " 8.01221348e-03 7.96214241e-03 7.92311585e-03 7.86743272e-03\n",
      " 7.71181475e-03 7.62501824e-03 7.46697457e-03 7.42478020e-03\n",
      " 7.34591041e-03 7.27620159e-03 7.19107169e-03 7.12530860e-03\n",
      " 7.01783467e-03 7.00055866e-03 6.79154694e-03 6.66766242e-03\n",
      " 6.61588986e-03 6.51405995e-03 6.37648710e-03 6.30181971e-03\n",
      " 6.22417213e-03 6.15079097e-03 6.10415031e-03 6.01208428e-03\n",
      " 5.97373844e-03 5.89498332e-03 5.68620194e-03 5.64399672e-03\n",
      " 5.42128748e-03 5.40422926e-03 5.37075082e-03 5.25187330e-03\n",
      " 5.22855497e-03 5.15382591e-03 5.12334467e-03 5.08078208e-03\n",
      " 4.99277172e-03 4.87789305e-03 4.80154855e-03 4.72902695e-03\n",
      " 4.60657724e-03 4.52166406e-03 4.48329430e-03 4.46665707e-03\n",
      " 4.39248005e-03 4.36691366e-03 4.29298078e-03 4.22124733e-03\n",
      " 4.18127165e-03 4.11724633e-03 4.00057363e-03 3.98217791e-03\n",
      " 3.92351985e-03 3.84636795e-03 3.78270097e-03 3.74629125e-03\n",
      " 3.68541639e-03 3.65140141e-03 3.41928003e-03 3.35825840e-03\n",
      " 3.32501812e-03 3.31298505e-03 3.23514136e-03 3.21207791e-03\n",
      " 3.18042116e-03 3.11985624e-03 3.08295299e-03 3.02746419e-03\n",
      " 3.00566739e-03 2.95224036e-03 2.93333762e-03 2.90186393e-03\n",
      " 2.84907067e-03 2.82981158e-03 2.78396712e-03 2.65066341e-03\n",
      " 2.62597095e-03 2.61560186e-03 2.59220429e-03 2.51280402e-03\n",
      " 2.47991475e-03 2.46379286e-03 2.46199389e-03 2.43011205e-03\n",
      " 2.34160726e-03 2.31910117e-03 2.25560446e-03 2.22177287e-03\n",
      " 2.20981461e-03 2.18478260e-03 2.10916960e-03 2.01520836e-03\n",
      " 1.99496461e-03 1.96163861e-03 1.92634395e-03 1.90154294e-03\n",
      " 1.89172398e-03 1.82114261e-03 1.81123484e-03 1.73177182e-03\n",
      " 1.69539825e-03 1.68413608e-03 1.64419400e-03 1.62758317e-03\n",
      " 1.59892888e-03 1.57324065e-03 1.54919044e-03 1.50777837e-03\n",
      " 1.47284355e-03 1.43085671e-03 1.41583329e-03 1.37789807e-03\n",
      " 1.37124496e-03 1.35940922e-03 1.33805998e-03 1.24695223e-03\n",
      " 1.21192515e-03 1.18662232e-03 1.17132832e-03 1.14412801e-03\n",
      " 1.11926443e-03 1.10735827e-03 1.08652007e-03 1.07643987e-03\n",
      " 1.05627315e-03 1.04595008e-03 1.01255403e-03 9.64272065e-04\n",
      " 9.39295129e-04 9.25798747e-04 9.23965545e-04 9.11447297e-04\n",
      " 8.66055533e-04 8.55174249e-04 8.33469534e-04 8.22736670e-04\n",
      " 8.20574745e-04 7.61790528e-04 7.47741235e-04 7.23746046e-04\n",
      " 7.12560619e-04 6.82830353e-04 6.74180887e-04 6.67226487e-04\n",
      " 6.50388527e-04 6.43892586e-04 5.99333742e-04 5.82981700e-04\n",
      " 5.81650618e-04 5.64653528e-04 5.60379648e-04 5.53102662e-04\n",
      " 5.45763672e-04 5.41008385e-04 5.23670571e-04 5.11242279e-04\n",
      " 4.97049362e-04 4.96117366e-04 4.89384466e-04 4.78113317e-04\n",
      " 4.70940249e-04 4.69133638e-04 4.59548105e-04 4.57756993e-04\n",
      " 4.27878984e-04 4.12530483e-04 3.93841801e-04 3.91552501e-04\n",
      " 3.88241397e-04 3.64083062e-04 3.61308752e-04 3.59915822e-04\n",
      " 3.54198915e-04 3.45860558e-04 3.37742108e-04 3.35936183e-04\n",
      " 3.34361596e-04 3.23387596e-04 3.12577371e-04 3.07240151e-04\n",
      " 3.04870293e-04 2.97556985e-04 2.89940485e-04 2.84319384e-04\n",
      " 2.79165489e-04 2.69540354e-04 2.66967100e-04 2.65624728e-04\n",
      " 2.52825940e-04 2.41011443e-04 2.39290263e-04 2.38891194e-04\n",
      " 2.34968029e-04 2.34004962e-04 2.28058727e-04 2.26594289e-04\n",
      " 2.18008003e-04 2.11703523e-04 2.09029675e-04 2.02953504e-04\n",
      " 2.01375369e-04 1.98896717e-04 1.89481548e-04 1.88879968e-04\n",
      " 1.87458570e-04 1.75596493e-04 1.74215486e-04 1.72647894e-04\n",
      " 1.69131082e-04 1.63742718e-04 1.62958804e-04 1.58695368e-04\n",
      " 1.56493651e-04 1.51724497e-04 1.49964327e-04 1.49155749e-04\n",
      " 1.45427212e-04 1.44468547e-04 1.36165007e-04 1.29790339e-04\n",
      " 1.29339585e-04 1.24344583e-04 1.20011818e-04 1.19664511e-04\n",
      " 1.19242357e-04 1.10201946e-04 1.09967166e-04 9.99955083e-05\n",
      " 9.62695399e-05 9.49166769e-05 9.45743566e-05 9.43828493e-05\n",
      " 9.42868668e-05 9.31334979e-05 9.26791758e-05 9.16314129e-05\n",
      " 9.12422059e-05 9.10468427e-05 8.98790714e-05 7.83076097e-05\n",
      " 7.80755912e-05 7.57627315e-05 7.17743370e-05 6.45842154e-05\n",
      " 5.09061971e-05 4.63878269e-05 4.50197108e-05 4.32418466e-05\n",
      " 4.32158218e-05 4.30619137e-05 4.14426997e-05 3.63634186e-05\n",
      " 2.84906601e-05 2.78989085e-05 2.19602376e-05 2.01122798e-05\n",
      " 1.54669913e-05 1.49534656e-05 1.24733612e-05 9.55394730e-06\n",
      " 8.06168981e-06 5.70335708e-06 5.20051706e-06 1.16146567e-06\n",
      " 9.33439646e-07 4.73061474e-07 1.79819418e-07 8.09211816e-08\n",
      " 4.06303463e-30 8.54587247e-31 7.60428477e-31 4.91163376e-31\n",
      " 4.01088400e-31 3.94880998e-31 2.78010964e-31 2.65183433e-31\n",
      " 2.40461993e-31 1.23920437e-31 9.34039120e-32 8.47738056e-32\n",
      " 8.47738056e-32 8.47738056e-32 8.47738056e-32 8.47738056e-32\n",
      " 8.47738056e-32 8.47738056e-32 8.47738056e-32 8.47738056e-32\n",
      " 8.47738056e-32 8.47738056e-32 8.47738056e-32 8.47738056e-32\n",
      " 8.47738056e-32 8.47738056e-32 8.47738056e-32 8.47738056e-32\n",
      " 8.47738056e-32 8.47738056e-32 8.47738056e-32 8.47738056e-32\n",
      " 8.47738056e-32 8.47738056e-32 8.47738056e-32 8.47738056e-32\n",
      " 8.47738056e-32 8.47738056e-32 8.47738056e-32 8.47738056e-32\n",
      " 8.47738056e-32 8.47738056e-32 8.47738056e-32 8.47738056e-32\n",
      " 8.47738056e-32 8.47738056e-32 8.47738056e-32 8.47738056e-32\n",
      " 8.47738056e-32 8.47738056e-32 8.47738056e-32 8.47738056e-32\n",
      " 8.47738056e-32 8.47738056e-32 8.47738056e-32 8.47738056e-32\n",
      " 8.47738056e-32 8.47738056e-32 8.47738056e-32 8.47738056e-32\n",
      " 8.47738056e-32 8.47738056e-32 8.47738056e-32 8.47738056e-32\n",
      " 8.47738056e-32 8.47738056e-32 8.47738056e-32 8.47738056e-32\n",
      " 8.47738056e-32 8.47738056e-32 8.47738056e-32 8.47738056e-32\n",
      " 8.47738056e-32 8.47738056e-32 8.47738056e-32 8.41976416e-32\n",
      " 5.13017976e-32 2.58500529e-32 2.34371025e-32 3.54281196e-33] \n",
      " Number of PCA Vectors = 784\n"
     ]
    }
   ],
   "source": [
    "print(f'{pca.explained_variance_} \\n Number of PCA Vectors = {len(pca.explained_variance_)}' )"
   ]
  },
  {
   "cell_type": "code",
   "execution_count": 26,
   "metadata": {},
   "outputs": [
    {
     "data": {
      "image/png": "[encoded data removed]",
      "text/plain": [
       "<Figure size 1152x432 with 1 Axes>"
      ]
     },
     "metadata": {
      "needs_background": "light"
     },
     "output_type": "display_data"
    }
   ],
   "source": [
    "# Plotting PCA output\n",
    "f, ax = plt.subplots(1, 1)\n",
    "for i in range(10):\n",
    "  ax.scatter(train_pca[y_train == i, 0], train_pca[y_train == i, 1], label=i)\n",
    "ax.set_xlabel(\"PCA Analysis\")\n",
    "ax.legend()\n",
    "f.set_size_inches(16, 6)\n",
    "ax.set_title(\"Digits (training set)\")\n",
    "plt.show()"
   ]
  },
  {
   "cell_type": "markdown",
   "metadata": {},
   "source": [
    "### Model Building"
   ]
  },
  {
   "cell_type": "code",
   "execution_count": 31,
   "metadata": {},
   "outputs": [
    {
     "name": "stdout",
     "output_type": "stream",
     "text": [
      "Fitting 5 folds for each of 24 candidates, totalling 120 fits\n"
     ]
    },
    {
     "name": "stderr",
     "output_type": "stream",
     "text": [
      "[Parallel(n_jobs=1)]: Using backend SequentialBackend with 1 concurrent workers.\n",
      "[Parallel(n_jobs=1)]: Done 120 out of 120 | elapsed: 129.6min finished\n"
     ]
    },
    {
     "name": "stdout",
     "output_type": "stream",
     "text": [
      "The best parameters are {'C': 10, 'gamma': 0.01} with a score of 0.97\n"
     ]
    }
   ],
   "source": [
    "## creating a KFold object with 5 splits \n",
    "folds = KFold(n_splits = 5, shuffle = True, random_state = 101)\n",
    "\n",
    "# specify range of hyperparameters\n",
    "# Set the parameters by cross-validation\n",
    "hyper_params = [ {'gamma': [0.0001, 0.001, 0.01, 0.1],\n",
    "                     'C': [0.001, 0.01, 0.1, 1, 10, 100]}]\n",
    "\n",
    "\n",
    "# specify modelb\n",
    "model = SVC(kernel=\"rbf\")\n",
    "\n",
    "# set up GridSearchCV()\n",
    "model_cv = GridSearchCV(estimator = model, \n",
    "                        param_grid = hyper_params, \n",
    "                        scoring= 'accuracy', \n",
    "                        cv = folds, \n",
    "                        verbose = 1,\n",
    "                        return_train_score=True)      \n",
    "\n",
    "# fit the model\n",
    "model_cv.fit(train_pca[:10000], y_train[:10000])  \n",
    "\n",
    "print(\"The best parameters are %s with a score of %0.2f\"\n",
    "       % (model_cv.best_params_, model_cv.best_score_))"
   ]
  },
  {
   "cell_type": "code",
   "execution_count": 34,
   "metadata": {},
   "outputs": [],
   "source": [
    "# model with optimal hyperparameters\n",
    "\n",
    "# model\n",
    "model = SVC(C=10, gamma=0.01, kernel=\"rbf\")\n",
    "\n",
    "model.fit(train_pca, y_train)\n",
    "\n",
    "# metrics\n",
    "train_score = model.score(train_pca, y_train)\n",
    "\n",
    "y_pred = model.predict(test_pca)"
   ]
  },
  {
   "cell_type": "code",
   "execution_count": 36,
   "metadata": {},
   "outputs": [
    {
     "name": "stdout",
     "output_type": "stream",
     "text": [
      "1.0\n"
     ]
    }
   ],
   "source": [
    "print(train_score)"
   ]
  },
  {
   "cell_type": "code",
   "execution_count": 38,
   "metadata": {},
   "outputs": [
    {
     "name": "stdout",
     "output_type": "stream",
     "text": [
      "Saved file: Digit Recognizer - SVM.csv\n"
     ]
    },
    {
     "data": {
      "text/html": [
       "<div>\n",
       "<style scoped>\n",
       "    .dataframe tbody tr th:only-of-type {\n",
       "        vertical-align: middle;\n",
       "    }\n",
       "\n",
       "    .dataframe tbody tr th {\n",
       "        vertical-align: top;\n",
       "    }\n",
       "\n",
       "    .dataframe thead th {\n",
       "        text-align: right;\n",
       "    }\n",
       "</style>\n",
       "<table border=\"1\" class=\"dataframe\">\n",
       "  <thead>\n",
       "    <tr style=\"text-align: right;\">\n",
       "      <th></th>\n",
       "      <th>ImageId</th>\n",
       "      <th>Label</th>\n",
       "    </tr>\n",
       "  </thead>\n",
       "  <tbody>\n",
       "    <tr>\n",
       "      <td>0</td>\n",
       "      <td>1</td>\n",
       "      <td>2</td>\n",
       "    </tr>\n",
       "    <tr>\n",
       "      <td>1</td>\n",
       "      <td>2</td>\n",
       "      <td>0</td>\n",
       "    </tr>\n",
       "    <tr>\n",
       "      <td>2</td>\n",
       "      <td>3</td>\n",
       "      <td>9</td>\n",
       "    </tr>\n",
       "    <tr>\n",
       "      <td>3</td>\n",
       "      <td>4</td>\n",
       "      <td>9</td>\n",
       "    </tr>\n",
       "    <tr>\n",
       "      <td>4</td>\n",
       "      <td>5</td>\n",
       "      <td>3</td>\n",
       "    </tr>\n",
       "  </tbody>\n",
       "</table>\n",
       "</div>"
      ],
      "text/plain": [
       "   ImageId  Label\n",
       "0        1      2\n",
       "1        2      0\n",
       "2        3      9\n",
       "3        4      9\n",
       "4        5      3"
      ]
     },
     "execution_count": 38,
     "metadata": {},
     "output_type": "execute_result"
    }
   ],
   "source": [
    "# Saving predictions to a .csv file\n",
    "# the testing accuracy (in terms of how many correct classifications)\n",
    "\n",
    "ImageId = [i+1 for i in range(len(y_pred))]\n",
    "kaggle = pd.DataFrame({'ImageId':ImageId,'Label':(y_pred)})\n",
    "filename = 'Digit Recognizer - SVM.csv'\n",
    "kaggle.to_csv(filename,index=False)\n",
    "print('Saved file: ' + filename)\n",
    "kaggle.head()"
   ]
  },
  {
   "cell_type": "code",
   "execution_count": 25,
   "metadata": {},
   "outputs": [
    {
     "data": {
      "text/plain": [
       "XGBClassifier(base_score=0.5, booster='gbtree', colsample_bylevel=1,\n",
       "              colsample_bynode=1, colsample_bytree=1, gamma=0, gpu_id=-1,\n",
       "              importance_type='gain', interaction_constraints='',\n",
       "              learning_rate=0.300000012, max_delta_step=0, max_depth=6,\n",
       "              min_child_weight=1, missing=nan, monotone_constraints='()',\n",
       "              n_estimators=100, n_jobs=0, num_parallel_tree=1,\n",
       "              objective='multi:softprob', random_state=0, reg_alpha=0,\n",
       "              reg_lambda=1, scale_pos_weight=None, subsample=1,\n",
       "              tree_method='exact', validate_parameters=1, verbosity=None)"
      ]
     },
     "execution_count": 25,
     "metadata": {},
     "output_type": "execute_result"
    }
   ],
   "source": [
    "# fit model on training data with default hyperparameters\n",
    "import xgboost as xgb\n",
    "from xgboost import XGBClassifier\n",
    "from xgboost import plot_importance\n",
    "\n",
    "model = XGBClassifier()\n",
    "model.fit(train_pca, y_train)"
   ]
  },
  {
   "cell_type": "code",
   "execution_count": 26,
   "metadata": {},
   "outputs": [
    {
     "data": {
      "text/plain": [
       "array([[1.01287415e-05, 2.09618946e-07, 9.99930382e-01, 1.44881915e-05,\n",
       "        2.42658257e-06, 2.95706127e-06, 2.31302920e-06, 5.60963235e-06,\n",
       "        2.26192187e-05, 8.80251264e-06],\n",
       "       [9.99983549e-01, 1.49145217e-06, 3.15943748e-06, 2.22420041e-07,\n",
       "        7.24165119e-08, 9.42751740e-06, 1.18150950e-07, 5.28469513e-07,\n",
       "        4.15353497e-07, 9.81773269e-07],\n",
       "       [6.36100740e-05, 4.28706378e-04, 4.99756134e-04, 1.96232297e-03,\n",
       "        2.98682246e-02, 9.82909091e-03, 5.22390110e-05, 1.88916270e-03,\n",
       "        5.28906379e-03, 9.50117767e-01],\n",
       "       [1.19247818e-02, 4.99173912e-05, 2.63113528e-01, 4.44452278e-04,\n",
       "        2.83910036e-01, 2.40160874e-03, 9.71697550e-03, 5.37017286e-02,\n",
       "        1.35041284e-03, 3.73386532e-01],\n",
       "       [2.22508243e-06, 1.21124385e-05, 7.58650759e-03, 9.92249131e-01,\n",
       "        2.61038872e-06, 2.04553708e-05, 7.39095731e-06, 2.94616189e-06,\n",
       "        1.10375346e-04, 6.21812023e-06],\n",
       "       [4.69342149e-06, 1.68290489e-06, 3.00924767e-05, 1.31698136e-04,\n",
       "        9.14144839e-05, 1.59241190e-05, 5.33421189e-06, 9.97095942e-01,\n",
       "        1.11161698e-05, 2.61206971e-03],\n",
       "       [9.99987841e-01, 2.70404684e-07, 1.30002377e-06, 1.68978204e-07,\n",
       "        2.00594741e-08, 3.98964494e-06, 5.34380092e-07, 2.77570820e-07,\n",
       "        2.21005303e-06, 3.36853054e-06],\n",
       "       [1.90527826e-05, 3.60884292e-06, 1.84937307e-05, 9.99355733e-01,\n",
       "        4.32462912e-05, 4.56109818e-04, 2.19509502e-06, 3.58840248e-06,\n",
       "        4.54471992e-05, 5.25439500e-05],\n",
       "       [9.99989867e-01, 1.51138494e-07, 4.99628982e-07, 7.26017845e-07,\n",
       "        1.42423788e-08, 6.97091127e-06, 5.34738760e-08, 2.47921378e-07,\n",
       "        1.23614211e-06, 1.89269016e-07],\n",
       "       [2.58888491e-07, 6.60706633e-07, 2.18130026e-06, 9.99816716e-01,\n",
       "        1.27133683e-06, 8.67453637e-05, 5.97959570e-07, 1.58861496e-06,\n",
       "        8.81914384e-05, 1.78071582e-06]], dtype=float32)"
      ]
     },
     "execution_count": 26,
     "metadata": {},
     "output_type": "execute_result"
    }
   ],
   "source": [
    "# make predictions for test data\n",
    "# use predict_proba since we need probabilities to compute auc\n",
    "y_pred = model.predict_proba(test_pca)\n",
    "y_pred[:10]"
   ]
  },
  {
   "cell_type": "code",
   "execution_count": 27,
   "metadata": {},
   "outputs": [],
   "source": [
    "# creating a KFold object \n",
    "folds = 3\n",
    "\n",
    "# specify range of hyperparameters\n",
    "param_grid = {'learning_rate': [0.2, 0.6], \n",
    "             'subsample': [0.3, 0.6, 0.9]}          \n",
    "\n",
    "\n",
    "# specify model\n",
    "xgb_model = XGBClassifier(max_depth=2, n_estimators=200)\n",
    "\n",
    "# set up GridSearchCV()\n",
    "model_cv = GridSearchCV(estimator = xgb_model, \n",
    "                        param_grid = param_grid,  \n",
    "                        cv = folds, \n",
    "                        verbose = 10,\n",
    "                        n_jobs=-1,\n",
    "                        return_train_score=True)   "
   ]
  },
  {
   "cell_type": "code",
   "execution_count": 28,
   "metadata": {},
   "outputs": [
    {
     "name": "stdout",
     "output_type": "stream",
     "text": [
      "Fitting 3 folds for each of 6 candidates, totalling 18 fits\n"
     ]
    },
    {
     "name": "stderr",
     "output_type": "stream",
     "text": [
      "[Parallel(n_jobs=-1)]: Using backend LokyBackend with 4 concurrent workers.\n",
      "[Parallel(n_jobs=-1)]: Done   5 tasks      | elapsed: 36.1min\n",
      "[Parallel(n_jobs=-1)]: Done  10 tasks      | elapsed: 52.2min\n",
      "[Parallel(n_jobs=-1)]: Done  13 out of  18 | elapsed: 65.1min remaining: 25.0min\n",
      "[Parallel(n_jobs=-1)]: Done  15 out of  18 | elapsed: 71.2min remaining: 14.2min\n",
      "[Parallel(n_jobs=-1)]: Done  18 out of  18 | elapsed: 77.4min finished\n"
     ]
    },
    {
     "data": {
      "text/plain": [
       "GridSearchCV(cv=3,\n",
       "             estimator=XGBClassifier(base_score=None, booster=None,\n",
       "                                     colsample_bylevel=None,\n",
       "                                     colsample_bynode=None,\n",
       "                                     colsample_bytree=None, gamma=None,\n",
       "                                     gpu_id=None, importance_type='gain',\n",
       "                                     interaction_constraints=None,\n",
       "                                     learning_rate=None, max_delta_step=None,\n",
       "                                     max_depth=2, min_child_weight=None,\n",
       "                                     missing=nan, monotone_constraints=None,\n",
       "                                     n_estimators=200, n_jobs=None,\n",
       "                                     num_parallel_tree=None, random_state=None,\n",
       "                                     reg_alpha=None, reg_lambda=None,\n",
       "                                     scale_pos_weight=None, subsample=None,\n",
       "                                     tree_method=None, validate_parameters=None,\n",
       "                                     verbosity=None),\n",
       "             n_jobs=-1,\n",
       "             param_grid={'learning_rate': [0.2, 0.6],\n",
       "                         'subsample': [0.3, 0.6, 0.9]},\n",
       "             return_train_score=True, verbose=10)"
      ]
     },
     "execution_count": 28,
     "metadata": {},
     "output_type": "execute_result"
    }
   ],
   "source": [
    "model_cv.fit(train_pca, y_train)  "
   ]
  },
  {
   "cell_type": "code",
   "execution_count": 29,
   "metadata": {},
   "outputs": [],
   "source": [
    "cv_results = pd.DataFrame(model_cv.cv_results_)"
   ]
  },
  {
   "cell_type": "code",
   "execution_count": 30,
   "metadata": {},
   "outputs": [
    {
     "data": {
      "text/html": [
       "<div>\n",
       "<style scoped>\n",
       "    .dataframe tbody tr th:only-of-type {\n",
       "        vertical-align: middle;\n",
       "    }\n",
       "\n",
       "    .dataframe tbody tr th {\n",
       "        vertical-align: top;\n",
       "    }\n",
       "\n",
       "    .dataframe thead th {\n",
       "        text-align: right;\n",
       "    }\n",
       "</style>\n",
       "<table border=\"1\" class=\"dataframe\">\n",
       "  <thead>\n",
       "    <tr style=\"text-align: right;\">\n",
       "      <th></th>\n",
       "      <th>mean_fit_time</th>\n",
       "      <th>std_fit_time</th>\n",
       "      <th>mean_score_time</th>\n",
       "      <th>std_score_time</th>\n",
       "      <th>param_learning_rate</th>\n",
       "      <th>param_subsample</th>\n",
       "      <th>params</th>\n",
       "      <th>split0_test_score</th>\n",
       "      <th>split1_test_score</th>\n",
       "      <th>split2_test_score</th>\n",
       "      <th>mean_test_score</th>\n",
       "      <th>std_test_score</th>\n",
       "      <th>rank_test_score</th>\n",
       "      <th>split0_train_score</th>\n",
       "      <th>split1_train_score</th>\n",
       "      <th>split2_train_score</th>\n",
       "      <th>mean_train_score</th>\n",
       "      <th>std_train_score</th>\n",
       "    </tr>\n",
       "  </thead>\n",
       "  <tbody>\n",
       "    <tr>\n",
       "      <td>0</td>\n",
       "      <td>846.521305</td>\n",
       "      <td>1.217395</td>\n",
       "      <td>4.208610</td>\n",
       "      <td>0.021426</td>\n",
       "      <td>0.2</td>\n",
       "      <td>0.3</td>\n",
       "      <td>{'learning_rate': 0.2, 'subsample': 0.3}</td>\n",
       "      <td>0.932571</td>\n",
       "      <td>0.933071</td>\n",
       "      <td>0.934929</td>\n",
       "      <td>0.933524</td>\n",
       "      <td>0.001014</td>\n",
       "      <td>3</td>\n",
       "      <td>0.965786</td>\n",
       "      <td>0.966714</td>\n",
       "      <td>0.965143</td>\n",
       "      <td>0.965881</td>\n",
       "      <td>0.000645</td>\n",
       "    </tr>\n",
       "    <tr>\n",
       "      <td>1</td>\n",
       "      <td>1291.627102</td>\n",
       "      <td>2.143742</td>\n",
       "      <td>3.533318</td>\n",
       "      <td>0.651488</td>\n",
       "      <td>0.2</td>\n",
       "      <td>0.6</td>\n",
       "      <td>{'learning_rate': 0.2, 'subsample': 0.6}</td>\n",
       "      <td>0.931500</td>\n",
       "      <td>0.932500</td>\n",
       "      <td>0.934071</td>\n",
       "      <td>0.932690</td>\n",
       "      <td>0.001058</td>\n",
       "      <td>4</td>\n",
       "      <td>0.966607</td>\n",
       "      <td>0.966750</td>\n",
       "      <td>0.966286</td>\n",
       "      <td>0.966548</td>\n",
       "      <td>0.000194</td>\n",
       "    </tr>\n",
       "    <tr>\n",
       "      <td>2</td>\n",
       "      <td>1436.386087</td>\n",
       "      <td>47.102787</td>\n",
       "      <td>2.935639</td>\n",
       "      <td>0.625816</td>\n",
       "      <td>0.2</td>\n",
       "      <td>0.9</td>\n",
       "      <td>{'learning_rate': 0.2, 'subsample': 0.9}</td>\n",
       "      <td>0.929000</td>\n",
       "      <td>0.930429</td>\n",
       "      <td>0.931357</td>\n",
       "      <td>0.930262</td>\n",
       "      <td>0.000969</td>\n",
       "      <td>6</td>\n",
       "      <td>0.965179</td>\n",
       "      <td>0.966393</td>\n",
       "      <td>0.964571</td>\n",
       "      <td>0.965381</td>\n",
       "      <td>0.000757</td>\n",
       "    </tr>\n",
       "    <tr>\n",
       "      <td>3</td>\n",
       "      <td>749.777175</td>\n",
       "      <td>58.506745</td>\n",
       "      <td>3.854459</td>\n",
       "      <td>1.573822</td>\n",
       "      <td>0.6</td>\n",
       "      <td>0.3</td>\n",
       "      <td>{'learning_rate': 0.6, 'subsample': 0.3}</td>\n",
       "      <td>0.929071</td>\n",
       "      <td>0.934571</td>\n",
       "      <td>0.933643</td>\n",
       "      <td>0.932429</td>\n",
       "      <td>0.002404</td>\n",
       "      <td>5</td>\n",
       "      <td>0.996643</td>\n",
       "      <td>0.997536</td>\n",
       "      <td>0.997643</td>\n",
       "      <td>0.997274</td>\n",
       "      <td>0.000448</td>\n",
       "    </tr>\n",
       "    <tr>\n",
       "      <td>4</td>\n",
       "      <td>882.753986</td>\n",
       "      <td>138.239710</td>\n",
       "      <td>2.212166</td>\n",
       "      <td>0.061354</td>\n",
       "      <td>0.6</td>\n",
       "      <td>0.6</td>\n",
       "      <td>{'learning_rate': 0.6, 'subsample': 0.6}</td>\n",
       "      <td>0.939571</td>\n",
       "      <td>0.942143</td>\n",
       "      <td>0.944571</td>\n",
       "      <td>0.942095</td>\n",
       "      <td>0.002042</td>\n",
       "      <td>2</td>\n",
       "      <td>0.998893</td>\n",
       "      <td>0.999179</td>\n",
       "      <td>0.999000</td>\n",
       "      <td>0.999024</td>\n",
       "      <td>0.000118</td>\n",
       "    </tr>\n",
       "  </tbody>\n",
       "</table>\n",
       "</div>"
      ],
      "text/plain": [
       "   mean_fit_time  std_fit_time  mean_score_time  std_score_time  \\\n",
       "0     846.521305      1.217395         4.208610        0.021426   \n",
       "1    1291.627102      2.143742         3.533318        0.651488   \n",
       "2    1436.386087     47.102787         2.935639        0.625816   \n",
       "3     749.777175     58.506745         3.854459        1.573822   \n",
       "4     882.753986    138.239710         2.212166        0.061354   \n",
       "\n",
       "   param_learning_rate  param_subsample  \\\n",
       "0                  0.2              0.3   \n",
       "1                  0.2              0.6   \n",
       "2                  0.2              0.9   \n",
       "3                  0.6              0.3   \n",
       "4                  0.6              0.6   \n",
       "\n",
       "                                     params  split0_test_score  \\\n",
       "0  {'learning_rate': 0.2, 'subsample': 0.3}           0.932571   \n",
       "1  {'learning_rate': 0.2, 'subsample': 0.6}           0.931500   \n",
       "2  {'learning_rate': 0.2, 'subsample': 0.9}           0.929000   \n",
       "3  {'learning_rate': 0.6, 'subsample': 0.3}           0.929071   \n",
       "4  {'learning_rate': 0.6, 'subsample': 0.6}           0.939571   \n",
       "\n",
       "   split1_test_score  split2_test_score  mean_test_score  std_test_score  \\\n",
       "0           0.933071           0.934929         0.933524        0.001014   \n",
       "1           0.932500           0.934071         0.932690        0.001058   \n",
       "2           0.930429           0.931357         0.930262        0.000969   \n",
       "3           0.934571           0.933643         0.932429        0.002404   \n",
       "4           0.942143           0.944571         0.942095        0.002042   \n",
       "\n",
       "   rank_test_score  split0_train_score  split1_train_score  \\\n",
       "0                3            0.965786            0.966714   \n",
       "1                4            0.966607            0.966750   \n",
       "2                6            0.965179            0.966393   \n",
       "3                5            0.996643            0.997536   \n",
       "4                2            0.998893            0.999179   \n",
       "\n",
       "   split2_train_score  mean_train_score  std_train_score  \n",
       "0            0.965143          0.965881         0.000645  \n",
       "1            0.966286          0.966548         0.000194  \n",
       "2            0.964571          0.965381         0.000757  \n",
       "3            0.997643          0.997274         0.000448  \n",
       "4            0.999000          0.999024         0.000118  "
      ]
     },
     "execution_count": 30,
     "metadata": {},
     "output_type": "execute_result"
    }
   ],
   "source": [
    "# convert parameters to int for plotting on x-axis\n",
    "cv_results['param_learning_rate'] = cv_results['param_learning_rate'].astype('float')\n",
    "cv_results['param_subsample'] = cv_results['param_subsample'].astype('float')\n",
    "cv_results.head()"
   ]
  },
  {
   "cell_type": "code",
   "execution_count": 31,
   "metadata": {},
   "outputs": [
    {
     "data": {
      "image/png": "[encoded data removed]",
      "text/plain": [
       "<Figure size 1152x432 with 3 Axes>"
      ]
     },
     "metadata": {
      "needs_background": "light"
     },
     "output_type": "display_data"
    }
   ],
   "source": [
    "# # plotting\n",
    "plt.figure(figsize=(16,6))\n",
    "\n",
    "param_grid = {'learning_rate': [0.2, 0.6], \n",
    "             'subsample': [0.3, 0.6, 0.9]} \n",
    "\n",
    "\n",
    "for n, subsample in enumerate(param_grid['subsample']):\n",
    "    \n",
    "\n",
    "    # subplot 1/n\n",
    "    plt.subplot(1,len(param_grid['subsample']), n+1)\n",
    "    df = cv_results[cv_results['param_subsample']==subsample]\n",
    "\n",
    "    plt.plot(df[\"param_learning_rate\"], df[\"mean_test_score\"])\n",
    "    plt.plot(df[\"param_learning_rate\"], df[\"mean_train_score\"])\n",
    "    plt.xlabel('learning_rate')\n",
    "    plt.ylabel('AUC')\n",
    "    plt.title(\"subsample={0}\".format(subsample))\n",
    "    plt.ylim([0.60, 1])\n",
    "    plt.legend(['test score', 'train score'], loc='upper left')\n",
    "    plt.xscale('log')"
   ]
  },
  {
   "cell_type": "code",
   "execution_count": 32,
   "metadata": {},
   "outputs": [
    {
     "name": "stdout",
     "output_type": "stream",
     "text": [
      "[23:48:18] WARNING: /Users/travis/build/dmlc/xgboost/src/learner.cc:480: \n",
      "Parameters: { params } might not be used.\n",
      "\n",
      "  This may not be accurate due to some parameters are only used in language bindings but\n",
      "  passed down to XGBoost core.  Or some parameters are not used but slip through this\n",
      "  verification. Please open an issue if you find above cases.\n",
      "\n",
      "\n"
     ]
    },
    {
     "data": {
      "text/plain": [
       "XGBClassifier(base_score=0.5, booster='gbtree', colsample_bylevel=1,\n",
       "              colsample_bynode=1, colsample_bytree=1, gamma=0, gpu_id=-1,\n",
       "              importance_type='gain', interaction_constraints='',\n",
       "              learning_rate=0.300000012, max_delta_step=0, max_depth=6,\n",
       "              min_child_weight=1, missing=nan, monotone_constraints='()',\n",
       "              n_estimators=100, n_jobs=0, num_parallel_tree=1,\n",
       "              objective='multi:softprob',\n",
       "              params={'learning_rate': 0.6, 'max_depth': 2, 'n_estimators': 200,\n",
       "                      'objective': 'binary:logistic', 'subsample': 0.9},\n",
       "              random_state=0, reg_alpha=0, reg_lambda=1, scale_pos_weight=None,\n",
       "              subsample=1, tree_method='exact', validate_parameters=1,\n",
       "              verbosity=None)"
      ]
     },
     "execution_count": 32,
     "metadata": {},
     "output_type": "execute_result"
    }
   ],
   "source": [
    "# chosen hyperparameters\n",
    "# 'objective':'binary:logistic' outputs probability rather than label, which we need for auc\n",
    "params = {'learning_rate': 0.6,\n",
    "          'max_depth': 2, \n",
    "          'n_estimators':200,\n",
    "          'subsample':0.9,\n",
    "         'objective':'binary:logistic'}\n",
    "\n",
    "# fit model on training data\n",
    "model = XGBClassifier(params = params)\n",
    "model.fit(train_pca, y_train)"
   ]
  },
  {
   "cell_type": "code",
   "execution_count": 41,
   "metadata": {},
   "outputs": [
    {
     "data": {
      "text/plain": [
       "array([2, 0, 9, 9, 3, 7, 0, 3, 0, 3])"
      ]
     },
     "execution_count": 41,
     "metadata": {},
     "output_type": "execute_result"
    }
   ],
   "source": [
    "# predict\n",
    "y_pred = model.predict(test_pca)\n",
    "y_pred[:10]"
   ]
  },
  {
   "cell_type": "code",
   "execution_count": 34,
   "metadata": {},
   "outputs": [],
   "source": [
    "# metrics\n",
    "train_score = model.score(train_pca, y_train)"
   ]
  },
  {
   "cell_type": "code",
   "execution_count": 35,
   "metadata": {},
   "outputs": [
    {
     "data": {
      "text/plain": [
       "1.0"
      ]
     },
     "execution_count": 35,
     "metadata": {},
     "output_type": "execute_result"
    }
   ],
   "source": [
    "train_score"
   ]
  },
  {
   "cell_type": "code",
   "execution_count": 42,
   "metadata": {},
   "outputs": [
    {
     "name": "stdout",
     "output_type": "stream",
     "text": [
      "Saved file: Digit Recognizer - XGB.csv\n"
     ]
    },
    {
     "data": {
      "text/html": [
       "<div>\n",
       "<style scoped>\n",
       "    .dataframe tbody tr th:only-of-type {\n",
       "        vertical-align: middle;\n",
       "    }\n",
       "\n",
       "    .dataframe tbody tr th {\n",
       "        vertical-align: top;\n",
       "    }\n",
       "\n",
       "    .dataframe thead th {\n",
       "        text-align: right;\n",
       "    }\n",
       "</style>\n",
       "<table border=\"1\" class=\"dataframe\">\n",
       "  <thead>\n",
       "    <tr style=\"text-align: right;\">\n",
       "      <th></th>\n",
       "      <th>ImageId</th>\n",
       "      <th>Label</th>\n",
       "    </tr>\n",
       "  </thead>\n",
       "  <tbody>\n",
       "    <tr>\n",
       "      <td>0</td>\n",
       "      <td>1</td>\n",
       "      <td>2</td>\n",
       "    </tr>\n",
       "    <tr>\n",
       "      <td>1</td>\n",
       "      <td>2</td>\n",
       "      <td>0</td>\n",
       "    </tr>\n",
       "    <tr>\n",
       "      <td>2</td>\n",
       "      <td>3</td>\n",
       "      <td>9</td>\n",
       "    </tr>\n",
       "    <tr>\n",
       "      <td>3</td>\n",
       "      <td>4</td>\n",
       "      <td>9</td>\n",
       "    </tr>\n",
       "    <tr>\n",
       "      <td>4</td>\n",
       "      <td>5</td>\n",
       "      <td>3</td>\n",
       "    </tr>\n",
       "  </tbody>\n",
       "</table>\n",
       "</div>"
      ],
      "text/plain": [
       "   ImageId  Label\n",
       "0        1      2\n",
       "1        2      0\n",
       "2        3      9\n",
       "3        4      9\n",
       "4        5      3"
      ]
     },
     "execution_count": 42,
     "metadata": {},
     "output_type": "execute_result"
    }
   ],
   "source": [
    "# Saving predictions to a .csv file\n",
    "# the testing accuracy (in terms of how many correct classifications)\n",
    "\n",
    "ImageId = [i+1 for i in range(len(y_pred))]\n",
    "kaggle = pd.DataFrame({'ImageId':ImageId,'Label':(y_pred)})\n",
    "filename = 'Digit Recognizer - XGB.csv'\n",
    "kaggle.to_csv(filename,index=False)\n",
    "print('Saved file: ' + filename)\n",
    "kaggle.head()"
   ]
  },
  {
   "cell_type": "code",
   "execution_count": 50,
   "metadata": {},
   "outputs": [],
   "source": [
    "from catboost import CatBoostClassifier\n",
    "cb_model = CatBoostClassifier(iterations=500,\n",
    "                             learning_rate=0.05,\n",
    "                             depth=10,\n",
    "                             eval_metric='AUC',\n",
    "                             random_seed = 42,\n",
    "                             bagging_temperature = 0.2,\n",
    "                             od_type='Iter',\n",
    "                             metric_period = 50,\n",
    "                             loss_function='MultiClass',\n",
    "                             od_wait=20)"
   ]
  },
  {
   "cell_type": "code",
   "execution_count": 51,
   "metadata": {},
   "outputs": [
    {
     "name": "stdout",
     "output_type": "stream",
     "text": [
      "0:\ttotal: 7.42s\tremaining: 1h 1m 42s\n",
      "50:\ttotal: 4m 2s\tremaining: 35m 34s\n",
      "100:\ttotal: 7m 49s\tremaining: 30m 56s\n",
      "150:\ttotal: 11m 42s\tremaining: 27m 2s\n",
      "200:\ttotal: 15m 52s\tremaining: 23m 36s\n",
      "250:\ttotal: 19m 27s\tremaining: 19m 18s\n",
      "300:\ttotal: 23m 8s\tremaining: 15m 18s\n",
      "350:\ttotal: 26m 58s\tremaining: 11m 27s\n",
      "400:\ttotal: 30m 46s\tremaining: 7m 35s\n",
      "450:\ttotal: 34m 27s\tremaining: 3m 44s\n",
      "499:\ttotal: 38m 1s\tremaining: 0us\n"
     ]
    },
    {
     "data": {
      "text/plain": [
       "<catboost.core.CatBoostClassifier at 0x7fa89e4dbc90>"
      ]
     },
     "execution_count": 51,
     "metadata": {},
     "output_type": "execute_result"
    }
   ],
   "source": [
    "cb_model.fit(train_pca, y_train)"
   ]
  },
  {
   "cell_type": "code",
   "execution_count": 52,
   "metadata": {},
   "outputs": [
    {
     "data": {
      "text/plain": [
       "array([[2],\n",
       "       [0],\n",
       "       [9],\n",
       "       [9],\n",
       "       [3],\n",
       "       [7],\n",
       "       [0],\n",
       "       [3],\n",
       "       [0],\n",
       "       [3]])"
      ]
     },
     "execution_count": 52,
     "metadata": {},
     "output_type": "execute_result"
    }
   ],
   "source": [
    "y_pred = cb_model.predict(test_pca)\n",
    "y_pred[:10]"
   ]
  },
  {
   "cell_type": "code",
   "execution_count": 53,
   "metadata": {},
   "outputs": [
    {
     "data": {
      "text/plain": [
       "0.9948095238095238"
      ]
     },
     "execution_count": 53,
     "metadata": {},
     "output_type": "execute_result"
    }
   ],
   "source": [
    "# metrics\n",
    "train_score = cb_model.score(train_pca, y_train)\n",
    "train_score"
   ]
  },
  {
   "cell_type": "code",
   "execution_count": 54,
   "metadata": {},
   "outputs": [
    {
     "ename": "Exception",
     "evalue": "Data must be 1-dimensional",
     "output_type": "error",
     "traceback": [
      "\u001b[0;31m---------------------------------------------------------------------------\u001b[0m",
      "\u001b[0;31mException\u001b[0m                                 Traceback (most recent call last)",
      "\u001b[0;32m<ipython-input-54-60d20db0762c>\u001b[0m in \u001b[0;36m<module>\u001b[0;34m\u001b[0m\n\u001b[1;32m      3\u001b[0m \u001b[0;34m\u001b[0m\u001b[0m\n\u001b[1;32m      4\u001b[0m \u001b[0mImageId\u001b[0m \u001b[0;34m=\u001b[0m \u001b[0;34m[\u001b[0m\u001b[0mi\u001b[0m\u001b[0;34m+\u001b[0m\u001b[0;36m1\u001b[0m \u001b[0;32mfor\u001b[0m \u001b[0mi\u001b[0m \u001b[0;32min\u001b[0m \u001b[0mrange\u001b[0m\u001b[0;34m(\u001b[0m\u001b[0mlen\u001b[0m\u001b[0;34m(\u001b[0m\u001b[0my_pred\u001b[0m\u001b[0;34m)\u001b[0m\u001b[0;34m)\u001b[0m\u001b[0;34m]\u001b[0m\u001b[0;34m\u001b[0m\u001b[0;34m\u001b[0m\u001b[0m\n\u001b[0;32m----> 5\u001b[0;31m \u001b[0mkaggle\u001b[0m \u001b[0;34m=\u001b[0m \u001b[0mpd\u001b[0m\u001b[0;34m.\u001b[0m\u001b[0mDataFrame\u001b[0m\u001b[0;34m(\u001b[0m\u001b[0;34m{\u001b[0m\u001b[0;34m'ImageId'\u001b[0m\u001b[0;34m:\u001b[0m\u001b[0mImageId\u001b[0m\u001b[0;34m,\u001b[0m\u001b[0;34m'Label'\u001b[0m\u001b[0;34m:\u001b[0m\u001b[0;34m(\u001b[0m\u001b[0my_pred\u001b[0m\u001b[0;34m)\u001b[0m\u001b[0;34m}\u001b[0m\u001b[0;34m)\u001b[0m\u001b[0;34m\u001b[0m\u001b[0;34m\u001b[0m\u001b[0m\n\u001b[0m\u001b[1;32m      6\u001b[0m \u001b[0mfilename\u001b[0m \u001b[0;34m=\u001b[0m \u001b[0;34m'Digit Recognizer - CB.csv'\u001b[0m\u001b[0;34m\u001b[0m\u001b[0;34m\u001b[0m\u001b[0m\n\u001b[1;32m      7\u001b[0m \u001b[0mkaggle\u001b[0m\u001b[0;34m.\u001b[0m\u001b[0mto_csv\u001b[0m\u001b[0;34m(\u001b[0m\u001b[0mfilename\u001b[0m\u001b[0;34m,\u001b[0m\u001b[0mindex\u001b[0m\u001b[0;34m=\u001b[0m\u001b[0;32mFalse\u001b[0m\u001b[0;34m)\u001b[0m\u001b[0;34m\u001b[0m\u001b[0;34m\u001b[0m\u001b[0m\n",
      "\u001b[0;32m~/opt/anaconda3/lib/python3.7/site-packages/pandas/core/frame.py\u001b[0m in \u001b[0;36m__init__\u001b[0;34m(self, data, index, columns, dtype, copy)\u001b[0m\n\u001b[1;32m    409\u001b[0m             )\n\u001b[1;32m    410\u001b[0m         \u001b[0;32melif\u001b[0m \u001b[0misinstance\u001b[0m\u001b[0;34m(\u001b[0m\u001b[0mdata\u001b[0m\u001b[0;34m,\u001b[0m \u001b[0mdict\u001b[0m\u001b[0;34m)\u001b[0m\u001b[0;34m:\u001b[0m\u001b[0;34m\u001b[0m\u001b[0;34m\u001b[0m\u001b[0m\n\u001b[0;32m--> 411\u001b[0;31m             \u001b[0mmgr\u001b[0m \u001b[0;34m=\u001b[0m \u001b[0minit_dict\u001b[0m\u001b[0;34m(\u001b[0m\u001b[0mdata\u001b[0m\u001b[0;34m,\u001b[0m \u001b[0mindex\u001b[0m\u001b[0;34m,\u001b[0m \u001b[0mcolumns\u001b[0m\u001b[0;34m,\u001b[0m \u001b[0mdtype\u001b[0m\u001b[0;34m=\u001b[0m\u001b[0mdtype\u001b[0m\u001b[0;34m)\u001b[0m\u001b[0;34m\u001b[0m\u001b[0;34m\u001b[0m\u001b[0m\n\u001b[0m\u001b[1;32m    412\u001b[0m         \u001b[0;32melif\u001b[0m \u001b[0misinstance\u001b[0m\u001b[0;34m(\u001b[0m\u001b[0mdata\u001b[0m\u001b[0;34m,\u001b[0m \u001b[0mma\u001b[0m\u001b[0;34m.\u001b[0m\u001b[0mMaskedArray\u001b[0m\u001b[0;34m)\u001b[0m\u001b[0;34m:\u001b[0m\u001b[0;34m\u001b[0m\u001b[0;34m\u001b[0m\u001b[0m\n\u001b[1;32m    413\u001b[0m             \u001b[0;32mimport\u001b[0m \u001b[0mnumpy\u001b[0m\u001b[0;34m.\u001b[0m\u001b[0mma\u001b[0m\u001b[0;34m.\u001b[0m\u001b[0mmrecords\u001b[0m \u001b[0;32mas\u001b[0m \u001b[0mmrecords\u001b[0m\u001b[0;34m\u001b[0m\u001b[0;34m\u001b[0m\u001b[0m\n",
      "\u001b[0;32m~/opt/anaconda3/lib/python3.7/site-packages/pandas/core/internals/construction.py\u001b[0m in \u001b[0;36minit_dict\u001b[0;34m(data, index, columns, dtype)\u001b[0m\n\u001b[1;32m    255\u001b[0m             \u001b[0marr\u001b[0m \u001b[0;32mif\u001b[0m \u001b[0;32mnot\u001b[0m \u001b[0mis_datetime64tz_dtype\u001b[0m\u001b[0;34m(\u001b[0m\u001b[0marr\u001b[0m\u001b[0;34m)\u001b[0m \u001b[0;32melse\u001b[0m \u001b[0marr\u001b[0m\u001b[0;34m.\u001b[0m\u001b[0mcopy\u001b[0m\u001b[0;34m(\u001b[0m\u001b[0;34m)\u001b[0m \u001b[0;32mfor\u001b[0m \u001b[0marr\u001b[0m \u001b[0;32min\u001b[0m \u001b[0marrays\u001b[0m\u001b[0;34m\u001b[0m\u001b[0;34m\u001b[0m\u001b[0m\n\u001b[1;32m    256\u001b[0m         ]\n\u001b[0;32m--> 257\u001b[0;31m     \u001b[0;32mreturn\u001b[0m \u001b[0marrays_to_mgr\u001b[0m\u001b[0;34m(\u001b[0m\u001b[0marrays\u001b[0m\u001b[0;34m,\u001b[0m \u001b[0mdata_names\u001b[0m\u001b[0;34m,\u001b[0m \u001b[0mindex\u001b[0m\u001b[0;34m,\u001b[0m \u001b[0mcolumns\u001b[0m\u001b[0;34m,\u001b[0m \u001b[0mdtype\u001b[0m\u001b[0;34m=\u001b[0m\u001b[0mdtype\u001b[0m\u001b[0;34m)\u001b[0m\u001b[0;34m\u001b[0m\u001b[0;34m\u001b[0m\u001b[0m\n\u001b[0m\u001b[1;32m    258\u001b[0m \u001b[0;34m\u001b[0m\u001b[0m\n\u001b[1;32m    259\u001b[0m \u001b[0;34m\u001b[0m\u001b[0m\n",
      "\u001b[0;32m~/opt/anaconda3/lib/python3.7/site-packages/pandas/core/internals/construction.py\u001b[0m in \u001b[0;36marrays_to_mgr\u001b[0;34m(arrays, arr_names, index, columns, dtype)\u001b[0m\n\u001b[1;32m     80\u001b[0m \u001b[0;34m\u001b[0m\u001b[0m\n\u001b[1;32m     81\u001b[0m     \u001b[0;31m# don't force copy because getting jammed in an ndarray anyway\u001b[0m\u001b[0;34m\u001b[0m\u001b[0;34m\u001b[0m\u001b[0;34m\u001b[0m\u001b[0m\n\u001b[0;32m---> 82\u001b[0;31m     \u001b[0marrays\u001b[0m \u001b[0;34m=\u001b[0m \u001b[0m_homogenize\u001b[0m\u001b[0;34m(\u001b[0m\u001b[0marrays\u001b[0m\u001b[0;34m,\u001b[0m \u001b[0mindex\u001b[0m\u001b[0;34m,\u001b[0m \u001b[0mdtype\u001b[0m\u001b[0;34m)\u001b[0m\u001b[0;34m\u001b[0m\u001b[0;34m\u001b[0m\u001b[0m\n\u001b[0m\u001b[1;32m     83\u001b[0m \u001b[0;34m\u001b[0m\u001b[0m\n\u001b[1;32m     84\u001b[0m     \u001b[0;31m# from BlockManager perspective\u001b[0m\u001b[0;34m\u001b[0m\u001b[0;34m\u001b[0m\u001b[0;34m\u001b[0m\u001b[0m\n",
      "\u001b[0;32m~/opt/anaconda3/lib/python3.7/site-packages/pandas/core/internals/construction.py\u001b[0m in \u001b[0;36m_homogenize\u001b[0;34m(data, index, dtype)\u001b[0m\n\u001b[1;32m    321\u001b[0m                 \u001b[0mval\u001b[0m \u001b[0;34m=\u001b[0m \u001b[0mlib\u001b[0m\u001b[0;34m.\u001b[0m\u001b[0mfast_multiget\u001b[0m\u001b[0;34m(\u001b[0m\u001b[0mval\u001b[0m\u001b[0;34m,\u001b[0m \u001b[0moindex\u001b[0m\u001b[0;34m.\u001b[0m\u001b[0mvalues\u001b[0m\u001b[0;34m,\u001b[0m \u001b[0mdefault\u001b[0m\u001b[0;34m=\u001b[0m\u001b[0mnp\u001b[0m\u001b[0;34m.\u001b[0m\u001b[0mnan\u001b[0m\u001b[0;34m)\u001b[0m\u001b[0;34m\u001b[0m\u001b[0;34m\u001b[0m\u001b[0m\n\u001b[1;32m    322\u001b[0m             val = sanitize_array(\n\u001b[0;32m--> 323\u001b[0;31m                 \u001b[0mval\u001b[0m\u001b[0;34m,\u001b[0m \u001b[0mindex\u001b[0m\u001b[0;34m,\u001b[0m \u001b[0mdtype\u001b[0m\u001b[0;34m=\u001b[0m\u001b[0mdtype\u001b[0m\u001b[0;34m,\u001b[0m \u001b[0mcopy\u001b[0m\u001b[0;34m=\u001b[0m\u001b[0;32mFalse\u001b[0m\u001b[0;34m,\u001b[0m \u001b[0mraise_cast_failure\u001b[0m\u001b[0;34m=\u001b[0m\u001b[0;32mFalse\u001b[0m\u001b[0;34m\u001b[0m\u001b[0;34m\u001b[0m\u001b[0m\n\u001b[0m\u001b[1;32m    324\u001b[0m             )\n\u001b[1;32m    325\u001b[0m \u001b[0;34m\u001b[0m\u001b[0m\n",
      "\u001b[0;32m~/opt/anaconda3/lib/python3.7/site-packages/pandas/core/internals/construction.py\u001b[0m in \u001b[0;36msanitize_array\u001b[0;34m(data, index, dtype, copy, raise_cast_failure)\u001b[0m\n\u001b[1;32m    727\u001b[0m     \u001b[0;32melif\u001b[0m \u001b[0msubarr\u001b[0m\u001b[0;34m.\u001b[0m\u001b[0mndim\u001b[0m \u001b[0;34m>\u001b[0m \u001b[0;36m1\u001b[0m\u001b[0;34m:\u001b[0m\u001b[0;34m\u001b[0m\u001b[0;34m\u001b[0m\u001b[0m\n\u001b[1;32m    728\u001b[0m         \u001b[0;32mif\u001b[0m \u001b[0misinstance\u001b[0m\u001b[0;34m(\u001b[0m\u001b[0mdata\u001b[0m\u001b[0;34m,\u001b[0m \u001b[0mnp\u001b[0m\u001b[0;34m.\u001b[0m\u001b[0mndarray\u001b[0m\u001b[0;34m)\u001b[0m\u001b[0;34m:\u001b[0m\u001b[0;34m\u001b[0m\u001b[0;34m\u001b[0m\u001b[0m\n\u001b[0;32m--> 729\u001b[0;31m             \u001b[0;32mraise\u001b[0m \u001b[0mException\u001b[0m\u001b[0;34m(\u001b[0m\u001b[0;34m\"Data must be 1-dimensional\"\u001b[0m\u001b[0;34m)\u001b[0m\u001b[0;34m\u001b[0m\u001b[0;34m\u001b[0m\u001b[0m\n\u001b[0m\u001b[1;32m    730\u001b[0m         \u001b[0;32melse\u001b[0m\u001b[0;34m:\u001b[0m\u001b[0;34m\u001b[0m\u001b[0;34m\u001b[0m\u001b[0m\n\u001b[1;32m    731\u001b[0m             \u001b[0msubarr\u001b[0m \u001b[0;34m=\u001b[0m \u001b[0mcom\u001b[0m\u001b[0;34m.\u001b[0m\u001b[0masarray_tuplesafe\u001b[0m\u001b[0;34m(\u001b[0m\u001b[0mdata\u001b[0m\u001b[0;34m,\u001b[0m \u001b[0mdtype\u001b[0m\u001b[0;34m=\u001b[0m\u001b[0mdtype\u001b[0m\u001b[0;34m)\u001b[0m\u001b[0;34m\u001b[0m\u001b[0;34m\u001b[0m\u001b[0m\n",
      "\u001b[0;31mException\u001b[0m: Data must be 1-dimensional"
     ]
    }
   ],
   "source": [
    "# Saving predictions to a .csv file\n",
    "# the testing accuracy (in terms of how many correct classifications)\n",
    "\n",
    "ImageId = [i+1 for i in range(len(y_pred))]\n",
    "kaggle = pd.DataFrame({'ImageId':ImageId,'Label':(y_pred)})\n",
    "filename = 'Digit Recognizer - CB.csv'\n",
    "kaggle.to_csv(filename,index=False)\n",
    "print('Saved file: ' + filename)\n",
    "kaggle.head()"
   ]
  }
 ],
 "metadata": {
  "kernelspec": {
   "display_name": "Python 3",
   "language": "python",
   "name": "python3"
  },
  "language_info": {
   "codemirror_mode": {
    "name": "ipython",
    "version": 3
   },
   "file_extension": ".py",
   "mimetype": "text/x-python",
   "name": "python",
   "nbconvert_exporter": "python",
   "pygments_lexer": "ipython3",
   "version": "3.8.5"
  }
 },
 "nbformat": 4,
 "nbformat_minor": 2
}
